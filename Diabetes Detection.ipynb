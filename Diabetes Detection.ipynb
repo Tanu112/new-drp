{
 "cells": [
  {
   "cell_type": "markdown",
   "id": "9afaad3e",
   "metadata": {},
   "source": [
    "# Early Stage Diabetes Risk Prediction "
   ]
  },
  {
   "cell_type": "markdown",
   "id": "26fd6d9d",
   "metadata": {},
   "source": [
    "### Problem Statement\n",
    "Diabetes is a long-lasting disease triggered by expanded sugar levels in human blood and can affect various organs if left untreated. It contributes to heart disease, kidney issues, damaged nerves, damaged blood vessels, and blindness. Timely disease prediction can save precious lives and enable healthcare advisors to take care of the conditions. Most diabetic patients know little about the risk factors they face before diagnosis. Nowadays, hospitals deploy basic information systems, which generate vast amounts of data that cannot be converted into proper/useful information and cannot be used to support decision making for clinical purposes. The only method of preventing diabetes complications is to identify and treat the disease early. "
   ]
  },
  {
   "cell_type": "markdown",
   "id": "aa5c65b0",
   "metadata": {},
   "source": [
    "### Feature Description\n",
    "\n",
    "    •Age 1.20-65\n",
    "    •Sex 1. Male, 2.Female\n",
    "    •Polyuria 1.Yes, 2.No\n",
    "    •Polydipsia 1.Yes, 2.No\n",
    "    •sudden weight loss 1.Yes, 2.No\n",
    "    •weakness 1.Yes, 2.No\n",
    "    •Polyphagia 1.Yes, 2.No\n",
    "    •Genital thrush 1.Yes, 2.No\n",
    "    •visual blurring 1.Yes, 2.No\n",
    "    •Itching 1.Yes, 2.No\n",
    "    •Irritability 1.Yes, 2.No\n",
    "    •delayed healing 1.Yes, 2.No\n",
    "    •partial paresis 1.Yes, 2.No\n",
    "    •muscle stiffness 1.Yes, 2.No\n",
    "    •Alopecia 1.Yes, 2.No\n",
    "    •Obesity 1.Yes, 2.No\n",
    "    •Class 1.Positive, 2.Negative"
   ]
  },
  {
   "cell_type": "code",
   "execution_count": 2,
   "id": "e4994339",
   "metadata": {},
   "outputs": [],
   "source": [
    "# Importing libraries\n",
    "import matplotlib.pyplot as plt\n",
    "import seaborn as sns\n",
    "import pandas as pd\n",
    "import numpy as np\n",
    "from sklearn import preprocessing\n",
    "from sklearn.preprocessing import *\n",
    "from sklearn.metrics import *\n",
    "from sklearn.model_selection import train_test_split\n",
    "from sklearn.linear_model import LogisticRegression\n",
    "from sklearn.tree import *\n",
    "from sklearn.naive_bayes import GaussianNB\n",
    "from sklearn.ensemble import RandomForestClassifier"
   ]
  },
  {
   "cell_type": "markdown",
   "id": "4a6655a1",
   "metadata": {},
   "source": [
    "### Data Acquisition"
   ]
  },
  {
   "cell_type": "code",
   "execution_count": 3,
   "id": "465335bb",
   "metadata": {},
   "outputs": [],
   "source": [
    "data=pd.read_csv('diabetes_data.csv')"
   ]
  },
  {
   "cell_type": "markdown",
   "id": "9587b3f0",
   "metadata": {},
   "source": [
    "## Exploratory Data Analysis"
   ]
  },
  {
   "cell_type": "markdown",
   "id": "28ed5c3b",
   "metadata": {},
   "source": [
    "### Basic EDA"
   ]
  },
  {
   "cell_type": "code",
   "execution_count": 4,
   "id": "6e2c01fe",
   "metadata": {},
   "outputs": [
    {
     "data": {
      "text/html": [
       "<div>\n",
       "<style scoped>\n",
       "    .dataframe tbody tr th:only-of-type {\n",
       "        vertical-align: middle;\n",
       "    }\n",
       "\n",
       "    .dataframe tbody tr th {\n",
       "        vertical-align: top;\n",
       "    }\n",
       "\n",
       "    .dataframe thead th {\n",
       "        text-align: right;\n",
       "    }\n",
       "</style>\n",
       "<table border=\"1\" class=\"dataframe\">\n",
       "  <thead>\n",
       "    <tr style=\"text-align: right;\">\n",
       "      <th></th>\n",
       "      <th>Age</th>\n",
       "      <th>Gender</th>\n",
       "      <th>Polyuria</th>\n",
       "      <th>Polydipsia</th>\n",
       "      <th>sudden weight loss</th>\n",
       "      <th>weakness</th>\n",
       "      <th>Polyphagia</th>\n",
       "      <th>Genital thrush</th>\n",
       "      <th>visual blurring</th>\n",
       "      <th>Itching</th>\n",
       "      <th>Irritability</th>\n",
       "      <th>delayed healing</th>\n",
       "      <th>partial paresis</th>\n",
       "      <th>muscle stiffness</th>\n",
       "      <th>Alopecia</th>\n",
       "      <th>Obesity</th>\n",
       "      <th>class</th>\n",
       "    </tr>\n",
       "  </thead>\n",
       "  <tbody>\n",
       "    <tr>\n",
       "      <th>0</th>\n",
       "      <td>40</td>\n",
       "      <td>Male</td>\n",
       "      <td>No</td>\n",
       "      <td>Yes</td>\n",
       "      <td>No</td>\n",
       "      <td>Yes</td>\n",
       "      <td>No</td>\n",
       "      <td>No</td>\n",
       "      <td>No</td>\n",
       "      <td>Yes</td>\n",
       "      <td>No</td>\n",
       "      <td>Yes</td>\n",
       "      <td>No</td>\n",
       "      <td>Yes</td>\n",
       "      <td>Yes</td>\n",
       "      <td>Yes</td>\n",
       "      <td>Positive</td>\n",
       "    </tr>\n",
       "    <tr>\n",
       "      <th>1</th>\n",
       "      <td>58</td>\n",
       "      <td>Male</td>\n",
       "      <td>No</td>\n",
       "      <td>No</td>\n",
       "      <td>No</td>\n",
       "      <td>Yes</td>\n",
       "      <td>No</td>\n",
       "      <td>No</td>\n",
       "      <td>Yes</td>\n",
       "      <td>No</td>\n",
       "      <td>No</td>\n",
       "      <td>No</td>\n",
       "      <td>Yes</td>\n",
       "      <td>No</td>\n",
       "      <td>Yes</td>\n",
       "      <td>No</td>\n",
       "      <td>Positive</td>\n",
       "    </tr>\n",
       "    <tr>\n",
       "      <th>2</th>\n",
       "      <td>41</td>\n",
       "      <td>Male</td>\n",
       "      <td>Yes</td>\n",
       "      <td>No</td>\n",
       "      <td>No</td>\n",
       "      <td>Yes</td>\n",
       "      <td>Yes</td>\n",
       "      <td>No</td>\n",
       "      <td>No</td>\n",
       "      <td>Yes</td>\n",
       "      <td>No</td>\n",
       "      <td>Yes</td>\n",
       "      <td>No</td>\n",
       "      <td>Yes</td>\n",
       "      <td>Yes</td>\n",
       "      <td>No</td>\n",
       "      <td>Positive</td>\n",
       "    </tr>\n",
       "    <tr>\n",
       "      <th>3</th>\n",
       "      <td>45</td>\n",
       "      <td>Male</td>\n",
       "      <td>No</td>\n",
       "      <td>No</td>\n",
       "      <td>Yes</td>\n",
       "      <td>Yes</td>\n",
       "      <td>Yes</td>\n",
       "      <td>Yes</td>\n",
       "      <td>No</td>\n",
       "      <td>Yes</td>\n",
       "      <td>No</td>\n",
       "      <td>Yes</td>\n",
       "      <td>No</td>\n",
       "      <td>No</td>\n",
       "      <td>No</td>\n",
       "      <td>No</td>\n",
       "      <td>Positive</td>\n",
       "    </tr>\n",
       "    <tr>\n",
       "      <th>4</th>\n",
       "      <td>60</td>\n",
       "      <td>Male</td>\n",
       "      <td>Yes</td>\n",
       "      <td>Yes</td>\n",
       "      <td>Yes</td>\n",
       "      <td>Yes</td>\n",
       "      <td>Yes</td>\n",
       "      <td>No</td>\n",
       "      <td>Yes</td>\n",
       "      <td>Yes</td>\n",
       "      <td>Yes</td>\n",
       "      <td>Yes</td>\n",
       "      <td>Yes</td>\n",
       "      <td>Yes</td>\n",
       "      <td>Yes</td>\n",
       "      <td>Yes</td>\n",
       "      <td>Positive</td>\n",
       "    </tr>\n",
       "  </tbody>\n",
       "</table>\n",
       "</div>"
      ],
      "text/plain": [
       "   Age Gender Polyuria Polydipsia sudden weight loss weakness Polyphagia  \\\n",
       "0   40   Male       No        Yes                 No      Yes         No   \n",
       "1   58   Male       No         No                 No      Yes         No   \n",
       "2   41   Male      Yes         No                 No      Yes        Yes   \n",
       "3   45   Male       No         No                Yes      Yes        Yes   \n",
       "4   60   Male      Yes        Yes                Yes      Yes        Yes   \n",
       "\n",
       "  Genital thrush visual blurring Itching Irritability delayed healing  \\\n",
       "0             No              No     Yes           No             Yes   \n",
       "1             No             Yes      No           No              No   \n",
       "2             No              No     Yes           No             Yes   \n",
       "3            Yes              No     Yes           No             Yes   \n",
       "4             No             Yes     Yes          Yes             Yes   \n",
       "\n",
       "  partial paresis muscle stiffness Alopecia Obesity     class  \n",
       "0              No              Yes      Yes     Yes  Positive  \n",
       "1             Yes               No      Yes      No  Positive  \n",
       "2              No              Yes      Yes      No  Positive  \n",
       "3              No               No       No      No  Positive  \n",
       "4             Yes              Yes      Yes     Yes  Positive  "
      ]
     },
     "execution_count": 4,
     "metadata": {},
     "output_type": "execute_result"
    }
   ],
   "source": [
    "#First Five Rows of the dataset\n",
    "data.head()"
   ]
  },
  {
   "cell_type": "code",
   "execution_count": 5,
   "id": "aa96905c",
   "metadata": {},
   "outputs": [
    {
     "data": {
      "text/html": [
       "<div>\n",
       "<style scoped>\n",
       "    .dataframe tbody tr th:only-of-type {\n",
       "        vertical-align: middle;\n",
       "    }\n",
       "\n",
       "    .dataframe tbody tr th {\n",
       "        vertical-align: top;\n",
       "    }\n",
       "\n",
       "    .dataframe thead th {\n",
       "        text-align: right;\n",
       "    }\n",
       "</style>\n",
       "<table border=\"1\" class=\"dataframe\">\n",
       "  <thead>\n",
       "    <tr style=\"text-align: right;\">\n",
       "      <th></th>\n",
       "      <th>Age</th>\n",
       "      <th>Gender</th>\n",
       "      <th>Polyuria</th>\n",
       "      <th>Polydipsia</th>\n",
       "      <th>sudden weight loss</th>\n",
       "      <th>weakness</th>\n",
       "      <th>Polyphagia</th>\n",
       "      <th>Genital thrush</th>\n",
       "      <th>visual blurring</th>\n",
       "      <th>Itching</th>\n",
       "      <th>Irritability</th>\n",
       "      <th>delayed healing</th>\n",
       "      <th>partial paresis</th>\n",
       "      <th>muscle stiffness</th>\n",
       "      <th>Alopecia</th>\n",
       "      <th>Obesity</th>\n",
       "      <th>class</th>\n",
       "    </tr>\n",
       "  </thead>\n",
       "  <tbody>\n",
       "    <tr>\n",
       "      <th>515</th>\n",
       "      <td>39</td>\n",
       "      <td>Female</td>\n",
       "      <td>Yes</td>\n",
       "      <td>Yes</td>\n",
       "      <td>Yes</td>\n",
       "      <td>No</td>\n",
       "      <td>Yes</td>\n",
       "      <td>No</td>\n",
       "      <td>No</td>\n",
       "      <td>Yes</td>\n",
       "      <td>No</td>\n",
       "      <td>Yes</td>\n",
       "      <td>Yes</td>\n",
       "      <td>No</td>\n",
       "      <td>No</td>\n",
       "      <td>No</td>\n",
       "      <td>Positive</td>\n",
       "    </tr>\n",
       "    <tr>\n",
       "      <th>516</th>\n",
       "      <td>48</td>\n",
       "      <td>Female</td>\n",
       "      <td>Yes</td>\n",
       "      <td>Yes</td>\n",
       "      <td>Yes</td>\n",
       "      <td>Yes</td>\n",
       "      <td>Yes</td>\n",
       "      <td>No</td>\n",
       "      <td>No</td>\n",
       "      <td>Yes</td>\n",
       "      <td>Yes</td>\n",
       "      <td>Yes</td>\n",
       "      <td>Yes</td>\n",
       "      <td>No</td>\n",
       "      <td>No</td>\n",
       "      <td>No</td>\n",
       "      <td>Positive</td>\n",
       "    </tr>\n",
       "    <tr>\n",
       "      <th>517</th>\n",
       "      <td>58</td>\n",
       "      <td>Female</td>\n",
       "      <td>Yes</td>\n",
       "      <td>Yes</td>\n",
       "      <td>Yes</td>\n",
       "      <td>Yes</td>\n",
       "      <td>Yes</td>\n",
       "      <td>No</td>\n",
       "      <td>Yes</td>\n",
       "      <td>No</td>\n",
       "      <td>No</td>\n",
       "      <td>No</td>\n",
       "      <td>Yes</td>\n",
       "      <td>Yes</td>\n",
       "      <td>No</td>\n",
       "      <td>Yes</td>\n",
       "      <td>Positive</td>\n",
       "    </tr>\n",
       "    <tr>\n",
       "      <th>518</th>\n",
       "      <td>32</td>\n",
       "      <td>Female</td>\n",
       "      <td>No</td>\n",
       "      <td>No</td>\n",
       "      <td>No</td>\n",
       "      <td>Yes</td>\n",
       "      <td>No</td>\n",
       "      <td>No</td>\n",
       "      <td>Yes</td>\n",
       "      <td>Yes</td>\n",
       "      <td>No</td>\n",
       "      <td>Yes</td>\n",
       "      <td>No</td>\n",
       "      <td>No</td>\n",
       "      <td>Yes</td>\n",
       "      <td>No</td>\n",
       "      <td>Negative</td>\n",
       "    </tr>\n",
       "    <tr>\n",
       "      <th>519</th>\n",
       "      <td>42</td>\n",
       "      <td>Male</td>\n",
       "      <td>No</td>\n",
       "      <td>No</td>\n",
       "      <td>No</td>\n",
       "      <td>No</td>\n",
       "      <td>No</td>\n",
       "      <td>No</td>\n",
       "      <td>No</td>\n",
       "      <td>No</td>\n",
       "      <td>No</td>\n",
       "      <td>No</td>\n",
       "      <td>No</td>\n",
       "      <td>No</td>\n",
       "      <td>No</td>\n",
       "      <td>No</td>\n",
       "      <td>Negative</td>\n",
       "    </tr>\n",
       "  </tbody>\n",
       "</table>\n",
       "</div>"
      ],
      "text/plain": [
       "     Age  Gender Polyuria Polydipsia sudden weight loss weakness Polyphagia  \\\n",
       "515   39  Female      Yes        Yes                Yes       No        Yes   \n",
       "516   48  Female      Yes        Yes                Yes      Yes        Yes   \n",
       "517   58  Female      Yes        Yes                Yes      Yes        Yes   \n",
       "518   32  Female       No         No                 No      Yes         No   \n",
       "519   42    Male       No         No                 No       No         No   \n",
       "\n",
       "    Genital thrush visual blurring Itching Irritability delayed healing  \\\n",
       "515             No              No     Yes           No             Yes   \n",
       "516             No              No     Yes          Yes             Yes   \n",
       "517             No             Yes      No           No              No   \n",
       "518             No             Yes     Yes           No             Yes   \n",
       "519             No              No      No           No              No   \n",
       "\n",
       "    partial paresis muscle stiffness Alopecia Obesity     class  \n",
       "515             Yes               No       No      No  Positive  \n",
       "516             Yes               No       No      No  Positive  \n",
       "517             Yes              Yes       No     Yes  Positive  \n",
       "518              No               No      Yes      No  Negative  \n",
       "519              No               No       No      No  Negative  "
      ]
     },
     "execution_count": 5,
     "metadata": {},
     "output_type": "execute_result"
    }
   ],
   "source": [
    "#Last five rows of the dataset\n",
    "data.tail()"
   ]
  },
  {
   "cell_type": "code",
   "execution_count": 6,
   "id": "d30f8bc8",
   "metadata": {},
   "outputs": [
    {
     "data": {
      "text/plain": [
       "(520, 17)"
      ]
     },
     "execution_count": 6,
     "metadata": {},
     "output_type": "execute_result"
    }
   ],
   "source": [
    "#Number of rows and columns\n",
    "data.shape"
   ]
  },
  {
   "cell_type": "code",
   "execution_count": 7,
   "id": "13c2439d",
   "metadata": {},
   "outputs": [
    {
     "data": {
      "text/plain": [
       "Index(['Age', 'Gender', 'Polyuria', 'Polydipsia', 'sudden weight loss',\n",
       "       'weakness', 'Polyphagia', 'Genital thrush', 'visual blurring',\n",
       "       'Itching', 'Irritability', 'delayed healing', 'partial paresis',\n",
       "       'muscle stiffness', 'Alopecia', 'Obesity', 'class'],\n",
       "      dtype='object')"
      ]
     },
     "execution_count": 7,
     "metadata": {},
     "output_type": "execute_result"
    }
   ],
   "source": [
    "#View column names\n",
    "data.columns"
   ]
  },
  {
   "cell_type": "code",
   "execution_count": 8,
   "id": "439d2127",
   "metadata": {},
   "outputs": [
    {
     "name": "stdout",
     "output_type": "stream",
     "text": [
      "<class 'pandas.core.frame.DataFrame'>\n",
      "RangeIndex: 520 entries, 0 to 519\n",
      "Data columns (total 17 columns):\n",
      " #   Column              Non-Null Count  Dtype \n",
      "---  ------              --------------  ----- \n",
      " 0   Age                 520 non-null    int64 \n",
      " 1   Gender              520 non-null    object\n",
      " 2   Polyuria            520 non-null    object\n",
      " 3   Polydipsia          520 non-null    object\n",
      " 4   sudden weight loss  520 non-null    object\n",
      " 5   weakness            520 non-null    object\n",
      " 6   Polyphagia          520 non-null    object\n",
      " 7   Genital thrush      520 non-null    object\n",
      " 8   visual blurring     520 non-null    object\n",
      " 9   Itching             520 non-null    object\n",
      " 10  Irritability        520 non-null    object\n",
      " 11  delayed healing     520 non-null    object\n",
      " 12  partial paresis     520 non-null    object\n",
      " 13  muscle stiffness    520 non-null    object\n",
      " 14  Alopecia            520 non-null    object\n",
      " 15  Obesity             520 non-null    object\n",
      " 16  class               520 non-null    object\n",
      "dtypes: int64(1), object(16)\n",
      "memory usage: 69.2+ KB\n"
     ]
    }
   ],
   "source": [
    "#Statistical Information\n",
    "data.info()"
   ]
  },
  {
   "cell_type": "code",
   "execution_count": 9,
   "id": "a3e84581",
   "metadata": {},
   "outputs": [
    {
     "data": {
      "text/html": [
       "<div>\n",
       "<style scoped>\n",
       "    .dataframe tbody tr th:only-of-type {\n",
       "        vertical-align: middle;\n",
       "    }\n",
       "\n",
       "    .dataframe tbody tr th {\n",
       "        vertical-align: top;\n",
       "    }\n",
       "\n",
       "    .dataframe thead th {\n",
       "        text-align: right;\n",
       "    }\n",
       "</style>\n",
       "<table border=\"1\" class=\"dataframe\">\n",
       "  <thead>\n",
       "    <tr style=\"text-align: right;\">\n",
       "      <th></th>\n",
       "      <th>Age</th>\n",
       "      <th>Gender</th>\n",
       "      <th>Polyuria</th>\n",
       "      <th>Polydipsia</th>\n",
       "      <th>sudden weight loss</th>\n",
       "      <th>weakness</th>\n",
       "      <th>Polyphagia</th>\n",
       "      <th>Genital thrush</th>\n",
       "      <th>visual blurring</th>\n",
       "      <th>Itching</th>\n",
       "      <th>Irritability</th>\n",
       "      <th>delayed healing</th>\n",
       "      <th>partial paresis</th>\n",
       "      <th>muscle stiffness</th>\n",
       "      <th>Alopecia</th>\n",
       "      <th>Obesity</th>\n",
       "      <th>class</th>\n",
       "    </tr>\n",
       "  </thead>\n",
       "  <tbody>\n",
       "    <tr>\n",
       "      <th>count</th>\n",
       "      <td>520.000000</td>\n",
       "      <td>520</td>\n",
       "      <td>520</td>\n",
       "      <td>520</td>\n",
       "      <td>520</td>\n",
       "      <td>520</td>\n",
       "      <td>520</td>\n",
       "      <td>520</td>\n",
       "      <td>520</td>\n",
       "      <td>520</td>\n",
       "      <td>520</td>\n",
       "      <td>520</td>\n",
       "      <td>520</td>\n",
       "      <td>520</td>\n",
       "      <td>520</td>\n",
       "      <td>520</td>\n",
       "      <td>520</td>\n",
       "    </tr>\n",
       "    <tr>\n",
       "      <th>unique</th>\n",
       "      <td>NaN</td>\n",
       "      <td>2</td>\n",
       "      <td>2</td>\n",
       "      <td>2</td>\n",
       "      <td>2</td>\n",
       "      <td>2</td>\n",
       "      <td>2</td>\n",
       "      <td>2</td>\n",
       "      <td>2</td>\n",
       "      <td>2</td>\n",
       "      <td>2</td>\n",
       "      <td>2</td>\n",
       "      <td>2</td>\n",
       "      <td>2</td>\n",
       "      <td>2</td>\n",
       "      <td>2</td>\n",
       "      <td>2</td>\n",
       "    </tr>\n",
       "    <tr>\n",
       "      <th>top</th>\n",
       "      <td>NaN</td>\n",
       "      <td>Male</td>\n",
       "      <td>No</td>\n",
       "      <td>No</td>\n",
       "      <td>No</td>\n",
       "      <td>Yes</td>\n",
       "      <td>No</td>\n",
       "      <td>No</td>\n",
       "      <td>No</td>\n",
       "      <td>No</td>\n",
       "      <td>No</td>\n",
       "      <td>No</td>\n",
       "      <td>No</td>\n",
       "      <td>No</td>\n",
       "      <td>No</td>\n",
       "      <td>No</td>\n",
       "      <td>Positive</td>\n",
       "    </tr>\n",
       "    <tr>\n",
       "      <th>freq</th>\n",
       "      <td>NaN</td>\n",
       "      <td>328</td>\n",
       "      <td>262</td>\n",
       "      <td>287</td>\n",
       "      <td>303</td>\n",
       "      <td>305</td>\n",
       "      <td>283</td>\n",
       "      <td>404</td>\n",
       "      <td>287</td>\n",
       "      <td>267</td>\n",
       "      <td>394</td>\n",
       "      <td>281</td>\n",
       "      <td>296</td>\n",
       "      <td>325</td>\n",
       "      <td>341</td>\n",
       "      <td>432</td>\n",
       "      <td>320</td>\n",
       "    </tr>\n",
       "    <tr>\n",
       "      <th>mean</th>\n",
       "      <td>48.028846</td>\n",
       "      <td>NaN</td>\n",
       "      <td>NaN</td>\n",
       "      <td>NaN</td>\n",
       "      <td>NaN</td>\n",
       "      <td>NaN</td>\n",
       "      <td>NaN</td>\n",
       "      <td>NaN</td>\n",
       "      <td>NaN</td>\n",
       "      <td>NaN</td>\n",
       "      <td>NaN</td>\n",
       "      <td>NaN</td>\n",
       "      <td>NaN</td>\n",
       "      <td>NaN</td>\n",
       "      <td>NaN</td>\n",
       "      <td>NaN</td>\n",
       "      <td>NaN</td>\n",
       "    </tr>\n",
       "    <tr>\n",
       "      <th>std</th>\n",
       "      <td>12.151466</td>\n",
       "      <td>NaN</td>\n",
       "      <td>NaN</td>\n",
       "      <td>NaN</td>\n",
       "      <td>NaN</td>\n",
       "      <td>NaN</td>\n",
       "      <td>NaN</td>\n",
       "      <td>NaN</td>\n",
       "      <td>NaN</td>\n",
       "      <td>NaN</td>\n",
       "      <td>NaN</td>\n",
       "      <td>NaN</td>\n",
       "      <td>NaN</td>\n",
       "      <td>NaN</td>\n",
       "      <td>NaN</td>\n",
       "      <td>NaN</td>\n",
       "      <td>NaN</td>\n",
       "    </tr>\n",
       "    <tr>\n",
       "      <th>min</th>\n",
       "      <td>16.000000</td>\n",
       "      <td>NaN</td>\n",
       "      <td>NaN</td>\n",
       "      <td>NaN</td>\n",
       "      <td>NaN</td>\n",
       "      <td>NaN</td>\n",
       "      <td>NaN</td>\n",
       "      <td>NaN</td>\n",
       "      <td>NaN</td>\n",
       "      <td>NaN</td>\n",
       "      <td>NaN</td>\n",
       "      <td>NaN</td>\n",
       "      <td>NaN</td>\n",
       "      <td>NaN</td>\n",
       "      <td>NaN</td>\n",
       "      <td>NaN</td>\n",
       "      <td>NaN</td>\n",
       "    </tr>\n",
       "    <tr>\n",
       "      <th>25%</th>\n",
       "      <td>39.000000</td>\n",
       "      <td>NaN</td>\n",
       "      <td>NaN</td>\n",
       "      <td>NaN</td>\n",
       "      <td>NaN</td>\n",
       "      <td>NaN</td>\n",
       "      <td>NaN</td>\n",
       "      <td>NaN</td>\n",
       "      <td>NaN</td>\n",
       "      <td>NaN</td>\n",
       "      <td>NaN</td>\n",
       "      <td>NaN</td>\n",
       "      <td>NaN</td>\n",
       "      <td>NaN</td>\n",
       "      <td>NaN</td>\n",
       "      <td>NaN</td>\n",
       "      <td>NaN</td>\n",
       "    </tr>\n",
       "    <tr>\n",
       "      <th>50%</th>\n",
       "      <td>47.500000</td>\n",
       "      <td>NaN</td>\n",
       "      <td>NaN</td>\n",
       "      <td>NaN</td>\n",
       "      <td>NaN</td>\n",
       "      <td>NaN</td>\n",
       "      <td>NaN</td>\n",
       "      <td>NaN</td>\n",
       "      <td>NaN</td>\n",
       "      <td>NaN</td>\n",
       "      <td>NaN</td>\n",
       "      <td>NaN</td>\n",
       "      <td>NaN</td>\n",
       "      <td>NaN</td>\n",
       "      <td>NaN</td>\n",
       "      <td>NaN</td>\n",
       "      <td>NaN</td>\n",
       "    </tr>\n",
       "    <tr>\n",
       "      <th>75%</th>\n",
       "      <td>57.000000</td>\n",
       "      <td>NaN</td>\n",
       "      <td>NaN</td>\n",
       "      <td>NaN</td>\n",
       "      <td>NaN</td>\n",
       "      <td>NaN</td>\n",
       "      <td>NaN</td>\n",
       "      <td>NaN</td>\n",
       "      <td>NaN</td>\n",
       "      <td>NaN</td>\n",
       "      <td>NaN</td>\n",
       "      <td>NaN</td>\n",
       "      <td>NaN</td>\n",
       "      <td>NaN</td>\n",
       "      <td>NaN</td>\n",
       "      <td>NaN</td>\n",
       "      <td>NaN</td>\n",
       "    </tr>\n",
       "    <tr>\n",
       "      <th>max</th>\n",
       "      <td>90.000000</td>\n",
       "      <td>NaN</td>\n",
       "      <td>NaN</td>\n",
       "      <td>NaN</td>\n",
       "      <td>NaN</td>\n",
       "      <td>NaN</td>\n",
       "      <td>NaN</td>\n",
       "      <td>NaN</td>\n",
       "      <td>NaN</td>\n",
       "      <td>NaN</td>\n",
       "      <td>NaN</td>\n",
       "      <td>NaN</td>\n",
       "      <td>NaN</td>\n",
       "      <td>NaN</td>\n",
       "      <td>NaN</td>\n",
       "      <td>NaN</td>\n",
       "      <td>NaN</td>\n",
       "    </tr>\n",
       "  </tbody>\n",
       "</table>\n",
       "</div>"
      ],
      "text/plain": [
       "               Age Gender Polyuria Polydipsia sudden weight loss weakness  \\\n",
       "count   520.000000    520      520        520                520      520   \n",
       "unique         NaN      2        2          2                  2        2   \n",
       "top            NaN   Male       No         No                 No      Yes   \n",
       "freq           NaN    328      262        287                303      305   \n",
       "mean     48.028846    NaN      NaN        NaN                NaN      NaN   \n",
       "std      12.151466    NaN      NaN        NaN                NaN      NaN   \n",
       "min      16.000000    NaN      NaN        NaN                NaN      NaN   \n",
       "25%      39.000000    NaN      NaN        NaN                NaN      NaN   \n",
       "50%      47.500000    NaN      NaN        NaN                NaN      NaN   \n",
       "75%      57.000000    NaN      NaN        NaN                NaN      NaN   \n",
       "max      90.000000    NaN      NaN        NaN                NaN      NaN   \n",
       "\n",
       "       Polyphagia Genital thrush visual blurring Itching Irritability  \\\n",
       "count         520            520             520     520          520   \n",
       "unique          2              2               2       2            2   \n",
       "top            No             No              No      No           No   \n",
       "freq          283            404             287     267          394   \n",
       "mean          NaN            NaN             NaN     NaN          NaN   \n",
       "std           NaN            NaN             NaN     NaN          NaN   \n",
       "min           NaN            NaN             NaN     NaN          NaN   \n",
       "25%           NaN            NaN             NaN     NaN          NaN   \n",
       "50%           NaN            NaN             NaN     NaN          NaN   \n",
       "75%           NaN            NaN             NaN     NaN          NaN   \n",
       "max           NaN            NaN             NaN     NaN          NaN   \n",
       "\n",
       "       delayed healing partial paresis muscle stiffness Alopecia Obesity  \\\n",
       "count              520             520              520      520     520   \n",
       "unique               2               2                2        2       2   \n",
       "top                 No              No               No       No      No   \n",
       "freq               281             296              325      341     432   \n",
       "mean               NaN             NaN              NaN      NaN     NaN   \n",
       "std                NaN             NaN              NaN      NaN     NaN   \n",
       "min                NaN             NaN              NaN      NaN     NaN   \n",
       "25%                NaN             NaN              NaN      NaN     NaN   \n",
       "50%                NaN             NaN              NaN      NaN     NaN   \n",
       "75%                NaN             NaN              NaN      NaN     NaN   \n",
       "max                NaN             NaN              NaN      NaN     NaN   \n",
       "\n",
       "           class  \n",
       "count        520  \n",
       "unique         2  \n",
       "top     Positive  \n",
       "freq         320  \n",
       "mean         NaN  \n",
       "std          NaN  \n",
       "min          NaN  \n",
       "25%          NaN  \n",
       "50%          NaN  \n",
       "75%          NaN  \n",
       "max          NaN  "
      ]
     },
     "execution_count": 9,
     "metadata": {},
     "output_type": "execute_result"
    }
   ],
   "source": [
    "data.describe(include='all')"
   ]
  },
  {
   "cell_type": "markdown",
   "id": "4ddaf835",
   "metadata": {},
   "source": [
    "The dataset has more categorical features(0s and 1s) except age. The dataset has 520 observations for analysis,the average age of individuals in the dataset is 48, the youngest individual is 16 years of age and the oldest is 90 years. There are more males with 328 occurences in the dataset, also we have more individuals that are susceptible to be diabetic (class = positive) in the dataset."
   ]
  },
  {
   "cell_type": "code",
   "execution_count": 10,
   "id": "d99f61fd",
   "metadata": {},
   "outputs": [
    {
     "data": {
      "text/plain": [
       "Age                   0\n",
       "Gender                0\n",
       "Polyuria              0\n",
       "Polydipsia            0\n",
       "sudden weight loss    0\n",
       "weakness              0\n",
       "Polyphagia            0\n",
       "Genital thrush        0\n",
       "visual blurring       0\n",
       "Itching               0\n",
       "Irritability          0\n",
       "delayed healing       0\n",
       "partial paresis       0\n",
       "muscle stiffness      0\n",
       "Alopecia              0\n",
       "Obesity               0\n",
       "class                 0\n",
       "dtype: int64"
      ]
     },
     "execution_count": 10,
     "metadata": {},
     "output_type": "execute_result"
    }
   ],
   "source": [
    "#Checking null values\n",
    "data.isnull().sum()"
   ]
  },
  {
   "cell_type": "markdown",
   "id": "eb8fdc2d",
   "metadata": {},
   "source": [
    "There are no missing values in the dataset"
   ]
  },
  {
   "cell_type": "markdown",
   "id": "4d70842b",
   "metadata": {},
   "source": [
    "### Data Visualization"
   ]
  },
  {
   "cell_type": "markdown",
   "id": "c9a402eb",
   "metadata": {},
   "source": [
    "#### Class"
   ]
  },
  {
   "cell_type": "code",
   "execution_count": 11,
   "id": "c0c29121",
   "metadata": {},
   "outputs": [
    {
     "data": {
      "text/plain": [
       "([<matplotlib.patches.Wedge at 0x25ccb7f06a0>,\n",
       "  <matplotlib.patches.Wedge at 0x25ccb7f0dc0>],\n",
       " [Text(-0.39006544982124386, 1.0285178388612184, 'Positive'),\n",
       "  Text(0.39006554611803196, -1.0285178023406505, 'Negative')],\n",
       " [Text(-0.21276297262976934, 0.5610097302879372, \"''61.54%'\"),\n",
       "  Text(0.21276302515529014, -0.5610097103676275, \"''38.46%'\")])"
      ]
     },
     "execution_count": 11,
     "metadata": {},
     "output_type": "execute_result"
    },
    {
     "data": {
      "image/png": "[encoded data removed]",
      "text/plain": [
       "<Figure size 432x288 with 1 Axes>"
      ]
     },
     "metadata": {},
     "output_type": "display_data"
    }
   ],
   "source": [
    "left_names=data[\"class\"].value_counts().index\n",
    "left_val=data[\"class\"].value_counts().values\n",
    "plt.title(\"Visualization of class\")\n",
    "plt.pie(left_val, labels=left_names, autopct=\"''%1.2f%%'\")"
   ]
  },
  {
   "cell_type": "markdown",
   "id": "bddb9a21",
   "metadata": {},
   "source": [
    "Most of the cases are positive."
   ]
  },
  {
   "cell_type": "markdown",
   "id": "249c6ffe",
   "metadata": {},
   "source": [
    "#### Age"
   ]
  },
  {
   "cell_type": "code",
   "execution_count": 12,
   "id": "1f128e79",
   "metadata": {},
   "outputs": [
    {
     "data": {
      "text/plain": [
       "40-50    151\n",
       "50-60    130\n",
       "30-40    124\n",
       "60-70     76\n",
       "20-30     19\n",
       "70-80     15\n",
       "80-90      2\n",
       "10-20      1\n",
       "Name: age_group, dtype: int64"
      ]
     },
     "execution_count": 12,
     "metadata": {},
     "output_type": "execute_result"
    }
   ],
   "source": [
    "def age(i):\n",
    "    for x in range(10,100,10):\n",
    "        if i<x:\n",
    "            m=f'{x-10}-{x}'\n",
    "            return m\n",
    "visual=data.copy()\n",
    "visual['age_group']=data['Age'].apply(lambda x:age(x))\n",
    "visual['age_group'].value_counts()"
   ]
  },
  {
   "cell_type": "code",
   "execution_count": 13,
   "id": "e5e7e731",
   "metadata": {},
   "outputs": [
    {
     "data": {
      "text/plain": [
       "age_group  class   \n",
       "10-20      Positive     1\n",
       "20-30      Negative    12\n",
       "           Positive     7\n",
       "30-40      Positive    77\n",
       "           Negative    47\n",
       "40-50      Positive    88\n",
       "           Negative    63\n",
       "50-60      Positive    81\n",
       "           Negative    49\n",
       "60-70      Positive    56\n",
       "           Negative    20\n",
       "70-80      Negative     9\n",
       "           Positive     6\n",
       "80-90      Positive     2\n",
       "Name: class, dtype: int64"
      ]
     },
     "execution_count": 13,
     "metadata": {},
     "output_type": "execute_result"
    }
   ],
   "source": [
    "visual['class'].groupby(visual['age_group']).value_counts()"
   ]
  },
  {
   "cell_type": "code",
   "execution_count": 14,
   "id": "6f76fd71",
   "metadata": {},
   "outputs": [
    {
     "data": {
      "text/plain": [
       "Text(0.5, 1.0, 'Age_Group Vs Class')"
      ]
     },
     "execution_count": 14,
     "metadata": {},
     "output_type": "execute_result"
    },
    {
     "data": {
      "image/png": "[encoded data removed]",
      "text/plain": [
       "<Figure size 720x288 with 2 Axes>"
      ]
     },
     "metadata": {
      "needs_background": "light"
     },
     "output_type": "display_data"
    }
   ],
   "source": [
    "fig,ax=plt.subplots(nrows=1, ncols=2, figsize=(10,4))\n",
    "sns.countplot(x='age_group', data=visual, ax=ax[0])\n",
    "ax[0].set_title(\"Age Wise Count\")\n",
    "sns.countplot(x='age_group',hue='class',data=visual,ax=ax[1])\n",
    "ax[1].set_title(\"Age_Group Vs Class\")"
   ]
  },
  {
   "cell_type": "markdown",
   "id": "55316df4",
   "metadata": {},
   "source": [
    "From the left plot, We found that most of the tested patients are between the age group of 40-50, followed by 50-60 and so on. And from the right plot, Age group of 40-50 count of around 80 from 151 are tested positive"
   ]
  },
  {
   "cell_type": "markdown",
   "id": "18a56a3f",
   "metadata": {},
   "source": [
    "#### Gender"
   ]
  },
  {
   "cell_type": "code",
   "execution_count": 15,
   "id": "8f874650",
   "metadata": {},
   "outputs": [
    {
     "data": {
      "text/plain": [
       "Male      328\n",
       "Female    192\n",
       "Name: Gender, dtype: int64"
      ]
     },
     "execution_count": 15,
     "metadata": {},
     "output_type": "execute_result"
    }
   ],
   "source": [
    "data['Gender'].value_counts()"
   ]
  },
  {
   "cell_type": "code",
   "execution_count": 16,
   "id": "a118c45d",
   "metadata": {},
   "outputs": [
    {
     "data": {
      "text/plain": [
       "Gender  class   \n",
       "Female  Positive    173\n",
       "        Negative     19\n",
       "Male    Negative    181\n",
       "        Positive    147\n",
       "Name: class, dtype: int64"
      ]
     },
     "execution_count": 16,
     "metadata": {},
     "output_type": "execute_result"
    }
   ],
   "source": [
    "data['class'].groupby(data['Gender']).value_counts()"
   ]
  },
  {
   "cell_type": "code",
   "execution_count": 17,
   "id": "068c8ca1",
   "metadata": {},
   "outputs": [
    {
     "data": {
      "text/plain": [
       "Text(0.5, 1.0, 'Gender Vs Class')"
      ]
     },
     "execution_count": 17,
     "metadata": {},
     "output_type": "execute_result"
    },
    {
     "data": {
      "image/png": "[encoded data removed]",
      "text/plain": [
       "<Figure size 720x288 with 2 Axes>"
      ]
     },
     "metadata": {
      "needs_background": "light"
     },
     "output_type": "display_data"
    }
   ],
   "source": [
    "fig,ax=plt.subplots(nrows=1, ncols=2, figsize=(10,4))\n",
    "sns.countplot(x='Gender', data=data, ax=ax[0])\n",
    "ax[0].set_title(\"Gender Wise Count\")\n",
    "sns.countplot(x='Gender',hue='class',data=data,ax=ax[1])\n",
    "ax[1].set_title(\"Gender Vs Class\")"
   ]
  },
  {
   "cell_type": "markdown",
   "id": "374464ec",
   "metadata": {},
   "source": [
    "We can find that from 192 women patients, 173 are tested positive and from 328 men patients, 147 are tested positive."
   ]
  },
  {
   "cell_type": "markdown",
   "id": "5a64ab07",
   "metadata": {},
   "source": [
    "#### Polyuria"
   ]
  },
  {
   "cell_type": "code",
   "execution_count": 18,
   "id": "c7aeac13",
   "metadata": {},
   "outputs": [
    {
     "data": {
      "text/plain": [
       "No     262\n",
       "Yes    258\n",
       "Name: Polyuria, dtype: int64"
      ]
     },
     "execution_count": 18,
     "metadata": {},
     "output_type": "execute_result"
    }
   ],
   "source": [
    "data['Polyuria'].value_counts()"
   ]
  },
  {
   "cell_type": "code",
   "execution_count": 19,
   "id": "4b7509db",
   "metadata": {},
   "outputs": [
    {
     "data": {
      "text/plain": [
       "Polyuria  class   \n",
       "No        Negative    185\n",
       "          Positive     77\n",
       "Yes       Positive    243\n",
       "          Negative     15\n",
       "Name: class, dtype: int64"
      ]
     },
     "execution_count": 19,
     "metadata": {},
     "output_type": "execute_result"
    }
   ],
   "source": [
    "data['class'].groupby(data['Polyuria']).value_counts()"
   ]
  },
  {
   "cell_type": "code",
   "execution_count": 20,
   "id": "1273dca3",
   "metadata": {},
   "outputs": [
    {
     "data": {
      "text/plain": [
       "Text(0.5, 1.0, 'Polyuria Vs Class')"
      ]
     },
     "execution_count": 20,
     "metadata": {},
     "output_type": "execute_result"
    },
    {
     "data": {
      "image/png": "[encoded data removed]",
      "text/plain": [
       "<Figure size 720x288 with 2 Axes>"
      ]
     },
     "metadata": {
      "needs_background": "light"
     },
     "output_type": "display_data"
    }
   ],
   "source": [
    "fig,ax=plt.subplots(nrows=1, ncols=2, figsize=(10,4))\n",
    "sns.countplot(x='Polyuria', data=data, ax=ax[0])\n",
    "ax[0].set_title(\"Polyuria Symptom Count\")\n",
    "sns.countplot(x='Polyuria',hue='class',data=data,ax=ax[1])\n",
    "ax[1].set_title(\"Polyuria Vs Class\")"
   ]
  },
  {
   "cell_type": "markdown",
   "id": "ca4e3cb3",
   "metadata": {},
   "source": [
    "Out of 258 who have polyuria symptoms, 243 are tested positive and out of 262 who have no symptoms, 77 are tested positive"
   ]
  },
  {
   "cell_type": "markdown",
   "id": "cc5f778f",
   "metadata": {},
   "source": [
    "#### Polydipsis"
   ]
  },
  {
   "cell_type": "code",
   "execution_count": 21,
   "id": "0fed52fd",
   "metadata": {},
   "outputs": [
    {
     "data": {
      "text/plain": [
       "No     287\n",
       "Yes    233\n",
       "Name: Polydipsia, dtype: int64"
      ]
     },
     "execution_count": 21,
     "metadata": {},
     "output_type": "execute_result"
    }
   ],
   "source": [
    "data['Polydipsia'].value_counts()"
   ]
  },
  {
   "cell_type": "code",
   "execution_count": 22,
   "id": "d9584014",
   "metadata": {},
   "outputs": [
    {
     "data": {
      "text/plain": [
       "Polydipsia  class   \n",
       "No          Negative    192\n",
       "            Positive     95\n",
       "Yes         Positive    225\n",
       "            Negative      8\n",
       "Name: class, dtype: int64"
      ]
     },
     "execution_count": 22,
     "metadata": {},
     "output_type": "execute_result"
    }
   ],
   "source": [
    "data['class'].groupby(data['Polydipsia']).value_counts()"
   ]
  },
  {
   "cell_type": "code",
   "execution_count": 23,
   "id": "36f32e11",
   "metadata": {},
   "outputs": [
    {
     "data": {
      "text/plain": [
       "Text(0.5, 1.0, 'Polydipsia Vs Class')"
      ]
     },
     "execution_count": 23,
     "metadata": {},
     "output_type": "execute_result"
    },
    {
     "data": {
      "image/png": "[encoded data removed]",
      "text/plain": [
       "<Figure size 720x288 with 2 Axes>"
      ]
     },
     "metadata": {
      "needs_background": "light"
     },
     "output_type": "display_data"
    }
   ],
   "source": [
    "fig,ax=plt.subplots(nrows=1, ncols=2, figsize=(10,4))\n",
    "sns.countplot(x='Polydipsia', data=data, ax=ax[0])\n",
    "ax[0].set_title(\"Polydipsia Symptom Count\")\n",
    "sns.countplot(x='Polydipsia',hue='class',data=data,ax=ax[1])\n",
    "ax[1].set_title(\"Polydipsia Vs Class\")"
   ]
  },
  {
   "cell_type": "markdown",
   "id": "011d2ee8",
   "metadata": {},
   "source": [
    "Out of 233 who have polydipsia symptom, 225 were tested positive."
   ]
  },
  {
   "cell_type": "markdown",
   "id": "27c3e474",
   "metadata": {},
   "source": [
    "#### Sudden Weight Loss"
   ]
  },
  {
   "cell_type": "code",
   "execution_count": 24,
   "id": "18456882",
   "metadata": {},
   "outputs": [
    {
     "data": {
      "text/plain": [
       "No     303\n",
       "Yes    217\n",
       "Name: sudden weight loss, dtype: int64"
      ]
     },
     "execution_count": 24,
     "metadata": {},
     "output_type": "execute_result"
    }
   ],
   "source": [
    "data['sudden weight loss'].value_counts()"
   ]
  },
  {
   "cell_type": "code",
   "execution_count": 25,
   "id": "db6a2a6e",
   "metadata": {},
   "outputs": [
    {
     "data": {
      "text/plain": [
       "sudden weight loss  class   \n",
       "No                  Negative    171\n",
       "                    Positive    132\n",
       "Yes                 Positive    188\n",
       "                    Negative     29\n",
       "Name: class, dtype: int64"
      ]
     },
     "execution_count": 25,
     "metadata": {},
     "output_type": "execute_result"
    }
   ],
   "source": [
    "data['class'].groupby(data['sudden weight loss']).value_counts()"
   ]
  },
  {
   "cell_type": "code",
   "execution_count": 26,
   "id": "b700bac6",
   "metadata": {},
   "outputs": [
    {
     "data": {
      "text/plain": [
       "Text(0.5, 1.0, 'sudden weight loss Vs Class')"
      ]
     },
     "execution_count": 26,
     "metadata": {},
     "output_type": "execute_result"
    },
    {
     "data": {
      "image/png": "[encoded data removed]",
      "text/plain": [
       "<Figure size 720x288 with 2 Axes>"
      ]
     },
     "metadata": {
      "needs_background": "light"
     },
     "output_type": "display_data"
    }
   ],
   "source": [
    "fig,ax=plt.subplots(nrows=1, ncols=2, figsize=(10,4))\n",
    "sns.countplot(x='sudden weight loss', data=data, ax=ax[0])\n",
    "ax[0].set_title(\"sudden weight loss Symptom Count\")\n",
    "sns.countplot(x='sudden weight loss',hue='class',data=data,ax=ax[1])\n",
    "ax[1].set_title(\"sudden weight loss Vs Class\")"
   ]
  },
  {
   "cell_type": "markdown",
   "id": "6bd96bd1",
   "metadata": {},
   "source": [
    "Out of 217 who had sudden weight loss, 188 were tested positive."
   ]
  },
  {
   "cell_type": "markdown",
   "id": "5b8ff515",
   "metadata": {},
   "source": [
    "#### Weakness"
   ]
  },
  {
   "cell_type": "code",
   "execution_count": 27,
   "id": "3fd7c1f9",
   "metadata": {},
   "outputs": [
    {
     "data": {
      "text/plain": [
       "Yes    305\n",
       "No     215\n",
       "Name: weakness, dtype: int64"
      ]
     },
     "execution_count": 27,
     "metadata": {},
     "output_type": "execute_result"
    }
   ],
   "source": [
    "data['weakness'].value_counts()"
   ]
  },
  {
   "cell_type": "code",
   "execution_count": 28,
   "id": "cc747a4a",
   "metadata": {},
   "outputs": [
    {
     "data": {
      "text/plain": [
       "weakness  class   \n",
       "No        Negative    113\n",
       "          Positive    102\n",
       "Yes       Positive    218\n",
       "          Negative     87\n",
       "Name: class, dtype: int64"
      ]
     },
     "execution_count": 28,
     "metadata": {},
     "output_type": "execute_result"
    }
   ],
   "source": [
    "data['class'].groupby(data['weakness']).value_counts()"
   ]
  },
  {
   "cell_type": "code",
   "execution_count": 29,
   "id": "cd2693d1",
   "metadata": {},
   "outputs": [
    {
     "data": {
      "text/plain": [
       "Text(0.5, 1.0, 'Weakness Vs Class')"
      ]
     },
     "execution_count": 29,
     "metadata": {},
     "output_type": "execute_result"
    },
    {
     "data": {
      "image/png": "[encoded data removed]",
      "text/plain": [
       "<Figure size 720x288 with 2 Axes>"
      ]
     },
     "metadata": {
      "needs_background": "light"
     },
     "output_type": "display_data"
    }
   ],
   "source": [
    "fig,ax=plt.subplots(nrows=1, ncols=2, figsize=(10,4))\n",
    "sns.countplot(x='weakness', data=data, ax=ax[0])\n",
    "ax[0].set_title(\"Weakness Symptom Count\")\n",
    "sns.countplot(x='weakness',hue='class',data=data,ax=ax[1])\n",
    "ax[1].set_title(\"Weakness Vs Class\")"
   ]
  },
  {
   "cell_type": "markdown",
   "id": "a1cf39a9",
   "metadata": {},
   "source": [
    "Out of 305 who are weak, 218 are tested positive"
   ]
  },
  {
   "cell_type": "markdown",
   "id": "e4193cf1",
   "metadata": {},
   "source": [
    "#### Polyphagia"
   ]
  },
  {
   "cell_type": "code",
   "execution_count": 30,
   "id": "139d1045",
   "metadata": {},
   "outputs": [
    {
     "data": {
      "text/plain": [
       "No     283\n",
       "Yes    237\n",
       "Name: Polyphagia, dtype: int64"
      ]
     },
     "execution_count": 30,
     "metadata": {},
     "output_type": "execute_result"
    }
   ],
   "source": [
    "data['Polyphagia'].value_counts()"
   ]
  },
  {
   "cell_type": "code",
   "execution_count": 31,
   "id": "310253c8",
   "metadata": {},
   "outputs": [
    {
     "data": {
      "text/plain": [
       "Polyphagia  class   \n",
       "No          Negative    152\n",
       "            Positive    131\n",
       "Yes         Positive    189\n",
       "            Negative     48\n",
       "Name: class, dtype: int64"
      ]
     },
     "execution_count": 31,
     "metadata": {},
     "output_type": "execute_result"
    }
   ],
   "source": [
    "data['class'].groupby(data['Polyphagia']).value_counts()"
   ]
  },
  {
   "cell_type": "code",
   "execution_count": 32,
   "id": "8b4762c5",
   "metadata": {},
   "outputs": [
    {
     "data": {
      "text/plain": [
       "Text(0.5, 1.0, 'Polyphagia Vs Class')"
      ]
     },
     "execution_count": 32,
     "metadata": {},
     "output_type": "execute_result"
    },
    {
     "data": {
      "image/png": "[encoded data removed]",
      "text/plain": [
       "<Figure size 720x288 with 2 Axes>"
      ]
     },
     "metadata": {
      "needs_background": "light"
     },
     "output_type": "display_data"
    }
   ],
   "source": [
    "fig,ax=plt.subplots(nrows=1, ncols=2, figsize=(10,4))\n",
    "sns.countplot(x='Polyphagia', data=data, ax=ax[0])\n",
    "ax[0].set_title(\"Polyphagia Symptom Count\")\n",
    "sns.countplot(x='Polyphagia',hue='class',data=data,ax=ax[1])\n",
    "ax[1].set_title(\"Polyphagia Vs Class\")"
   ]
  },
  {
   "cell_type": "markdown",
   "id": "069fae6c",
   "metadata": {},
   "source": [
    "Out of 237 who have Polyphagia, 189 are tested positive"
   ]
  },
  {
   "cell_type": "markdown",
   "id": "6709335c",
   "metadata": {},
   "source": [
    "#### Genital thrush"
   ]
  },
  {
   "cell_type": "code",
   "execution_count": 33,
   "id": "3e1e77c4",
   "metadata": {},
   "outputs": [
    {
     "data": {
      "text/plain": [
       "No     404\n",
       "Yes    116\n",
       "Name: Genital thrush, dtype: int64"
      ]
     },
     "execution_count": 33,
     "metadata": {},
     "output_type": "execute_result"
    }
   ],
   "source": [
    "data['Genital thrush'].value_counts()"
   ]
  },
  {
   "cell_type": "code",
   "execution_count": 34,
   "id": "fd71a55d",
   "metadata": {},
   "outputs": [
    {
     "data": {
      "text/plain": [
       "Genital thrush  class   \n",
       "No              Positive    237\n",
       "                Negative    167\n",
       "Yes             Positive     83\n",
       "                Negative     33\n",
       "Name: class, dtype: int64"
      ]
     },
     "execution_count": 34,
     "metadata": {},
     "output_type": "execute_result"
    }
   ],
   "source": [
    "data['class'].groupby(data['Genital thrush']).value_counts()"
   ]
  },
  {
   "cell_type": "code",
   "execution_count": 35,
   "id": "ed364173",
   "metadata": {},
   "outputs": [
    {
     "data": {
      "text/plain": [
       "Text(0.5, 1.0, 'Genital thrush Vs Class')"
      ]
     },
     "execution_count": 35,
     "metadata": {},
     "output_type": "execute_result"
    },
    {
     "data": {
      "image/png": "[encoded data removed]",
      "text/plain": [
       "<Figure size 720x288 with 2 Axes>"
      ]
     },
     "metadata": {
      "needs_background": "light"
     },
     "output_type": "display_data"
    }
   ],
   "source": [
    "fig,ax=plt.subplots(nrows=1, ncols=2, figsize=(10,4))\n",
    "sns.countplot(x='Genital thrush', data=data, ax=ax[0])\n",
    "ax[0].set_title(\"Genital thrush Symptom Count\")\n",
    "sns.countplot(x='Genital thrush',hue='class',data=data,ax=ax[1])\n",
    "ax[1].set_title(\"Genital thrush Vs Class\")"
   ]
  },
  {
   "cell_type": "markdown",
   "id": "7db7b05e",
   "metadata": {},
   "source": [
    "Out of 116 who have genital thrush, 83 are tested positive."
   ]
  },
  {
   "cell_type": "markdown",
   "id": "3e477c49",
   "metadata": {},
   "source": [
    "#### Visual blurring"
   ]
  },
  {
   "cell_type": "code",
   "execution_count": 36,
   "id": "2e1d115a",
   "metadata": {},
   "outputs": [
    {
     "data": {
      "text/plain": [
       "No     287\n",
       "Yes    233\n",
       "Name: visual blurring, dtype: int64"
      ]
     },
     "execution_count": 36,
     "metadata": {},
     "output_type": "execute_result"
    }
   ],
   "source": [
    "data['visual blurring'].value_counts()"
   ]
  },
  {
   "cell_type": "code",
   "execution_count": 37,
   "id": "0441e9db",
   "metadata": {},
   "outputs": [
    {
     "data": {
      "text/plain": [
       "visual blurring  class   \n",
       "No               Positive    145\n",
       "                 Negative    142\n",
       "Yes              Positive    175\n",
       "                 Negative     58\n",
       "Name: class, dtype: int64"
      ]
     },
     "execution_count": 37,
     "metadata": {},
     "output_type": "execute_result"
    }
   ],
   "source": [
    "data['class'].groupby(data['visual blurring']).value_counts()"
   ]
  },
  {
   "cell_type": "code",
   "execution_count": 38,
   "id": "950db789",
   "metadata": {},
   "outputs": [
    {
     "data": {
      "text/plain": [
       "Text(0.5, 1.0, 'visual blurring Vs Class')"
      ]
     },
     "execution_count": 38,
     "metadata": {},
     "output_type": "execute_result"
    },
    {
     "data": {
      "image/png": "[encoded data removed]",
      "text/plain": [
       "<Figure size 720x288 with 2 Axes>"
      ]
     },
     "metadata": {
      "needs_background": "light"
     },
     "output_type": "display_data"
    }
   ],
   "source": [
    "fig,ax=plt.subplots(nrows=1, ncols=2, figsize=(10,4))\n",
    "sns.countplot(x='visual blurring', data=data, ax=ax[0])\n",
    "ax[0].set_title(\"visual blurring Symptom Count\")\n",
    "sns.countplot(x='visual blurring',hue='class',data=data,ax=ax[1])\n",
    "ax[1].set_title(\"visual blurring Vs Class\")"
   ]
  },
  {
   "cell_type": "markdown",
   "id": "2c4244eb",
   "metadata": {},
   "source": [
    "Out of 233 who have visual blurring, 175 are tested positive"
   ]
  },
  {
   "cell_type": "markdown",
   "id": "c73d8a0c",
   "metadata": {},
   "source": [
    "#### Itching"
   ]
  },
  {
   "cell_type": "code",
   "execution_count": 39,
   "id": "e34edc04",
   "metadata": {},
   "outputs": [
    {
     "data": {
      "text/plain": [
       "No     267\n",
       "Yes    253\n",
       "Name: Itching, dtype: int64"
      ]
     },
     "execution_count": 39,
     "metadata": {},
     "output_type": "execute_result"
    }
   ],
   "source": [
    "data['Itching'].value_counts()"
   ]
  },
  {
   "cell_type": "code",
   "execution_count": 40,
   "id": "b60b9a04",
   "metadata": {},
   "outputs": [
    {
     "data": {
      "text/plain": [
       "Itching  class   \n",
       "No       Positive    166\n",
       "         Negative    101\n",
       "Yes      Positive    154\n",
       "         Negative     99\n",
       "Name: class, dtype: int64"
      ]
     },
     "execution_count": 40,
     "metadata": {},
     "output_type": "execute_result"
    }
   ],
   "source": [
    "data['class'].groupby(data['Itching']).value_counts()"
   ]
  },
  {
   "cell_type": "code",
   "execution_count": 41,
   "id": "66f5d3c2",
   "metadata": {},
   "outputs": [
    {
     "data": {
      "text/plain": [
       "Text(0.5, 1.0, 'Itching Vs Class')"
      ]
     },
     "execution_count": 41,
     "metadata": {},
     "output_type": "execute_result"
    },
    {
     "data": {
      "image/png": "[encoded data removed]",
      "text/plain": [
       "<Figure size 720x288 with 2 Axes>"
      ]
     },
     "metadata": {
      "needs_background": "light"
     },
     "output_type": "display_data"
    }
   ],
   "source": [
    "fig,ax=plt.subplots(nrows=1, ncols=2, figsize=(10,4))\n",
    "sns.countplot(x='Itching', data=data, ax=ax[0])\n",
    "ax[0].set_title(\"Itching Symptom Count\")\n",
    "sns.countplot(x='Itching',hue='class',data=data,ax=ax[1])\n",
    "ax[1].set_title(\"Itching Vs Class\")"
   ]
  },
  {
   "cell_type": "markdown",
   "id": "8a6a2ee1",
   "metadata": {},
   "source": [
    "Out of 253 who have itching, 154 are tested positive"
   ]
  },
  {
   "cell_type": "markdown",
   "id": "0e542170",
   "metadata": {},
   "source": [
    "#### Irritability"
   ]
  },
  {
   "cell_type": "code",
   "execution_count": 42,
   "id": "c70a1fe4",
   "metadata": {},
   "outputs": [
    {
     "data": {
      "text/plain": [
       "No     394\n",
       "Yes    126\n",
       "Name: Irritability, dtype: int64"
      ]
     },
     "execution_count": 42,
     "metadata": {},
     "output_type": "execute_result"
    }
   ],
   "source": [
    "data['Irritability'].value_counts()"
   ]
  },
  {
   "cell_type": "code",
   "execution_count": 43,
   "id": "edcfbf05",
   "metadata": {},
   "outputs": [
    {
     "data": {
      "text/plain": [
       "Irritability  class   \n",
       "No            Positive    210\n",
       "              Negative    184\n",
       "Yes           Positive    110\n",
       "              Negative     16\n",
       "Name: class, dtype: int64"
      ]
     },
     "execution_count": 43,
     "metadata": {},
     "output_type": "execute_result"
    }
   ],
   "source": [
    "data['class'].groupby(data['Irritability']).value_counts()"
   ]
  },
  {
   "cell_type": "code",
   "execution_count": 44,
   "id": "093e02ef",
   "metadata": {},
   "outputs": [
    {
     "data": {
      "text/plain": [
       "Text(0.5, 1.0, 'Irritability Vs Class')"
      ]
     },
     "execution_count": 44,
     "metadata": {},
     "output_type": "execute_result"
    },
    {
     "data": {
      "image/png": "[encoded data removed]",
      "text/plain": [
       "<Figure size 720x288 with 2 Axes>"
      ]
     },
     "metadata": {
      "needs_background": "light"
     },
     "output_type": "display_data"
    }
   ],
   "source": [
    "fig,ax=plt.subplots(nrows=1, ncols=2, figsize=(10,4))\n",
    "sns.countplot(x='Irritability', data=data, ax=ax[0])\n",
    "ax[0].set_title(\"Irritability Symptom Count\")\n",
    "sns.countplot(x='Irritability',hue='class',data=data,ax=ax[1])\n",
    "ax[1].set_title(\"Irritability Vs Class\")"
   ]
  },
  {
   "cell_type": "markdown",
   "id": "b1f5a2f1",
   "metadata": {},
   "source": [
    "Out of 126 who have irritation, 110 are tested positive."
   ]
  },
  {
   "cell_type": "markdown",
   "id": "2a3e57e4",
   "metadata": {},
   "source": [
    "#### Delayed healing"
   ]
  },
  {
   "cell_type": "code",
   "execution_count": 45,
   "id": "3a9e9ae4",
   "metadata": {},
   "outputs": [
    {
     "data": {
      "text/plain": [
       "No     281\n",
       "Yes    239\n",
       "Name: delayed healing, dtype: int64"
      ]
     },
     "execution_count": 45,
     "metadata": {},
     "output_type": "execute_result"
    }
   ],
   "source": [
    "data['delayed healing'].value_counts()"
   ]
  },
  {
   "cell_type": "code",
   "execution_count": 46,
   "id": "89a589b1",
   "metadata": {},
   "outputs": [
    {
     "data": {
      "text/plain": [
       "delayed healing  class   \n",
       "No               Positive    167\n",
       "                 Negative    114\n",
       "Yes              Positive    153\n",
       "                 Negative     86\n",
       "Name: class, dtype: int64"
      ]
     },
     "execution_count": 46,
     "metadata": {},
     "output_type": "execute_result"
    }
   ],
   "source": [
    "data['class'].groupby(data['delayed healing']).value_counts()"
   ]
  },
  {
   "cell_type": "code",
   "execution_count": 47,
   "id": "435a1e86",
   "metadata": {},
   "outputs": [
    {
     "data": {
      "text/plain": [
       "Text(0.5, 1.0, 'delayed healing Vs Class')"
      ]
     },
     "execution_count": 47,
     "metadata": {},
     "output_type": "execute_result"
    },
    {
     "data": {
      "image/png": "[encoded data removed]",
      "text/plain": [
       "<Figure size 720x288 with 2 Axes>"
      ]
     },
     "metadata": {
      "needs_background": "light"
     },
     "output_type": "display_data"
    }
   ],
   "source": [
    "fig,ax=plt.subplots(nrows=1, ncols=2, figsize=(10,4))\n",
    "sns.countplot(x='delayed healing', data=data, ax=ax[0])\n",
    "ax[0].set_title(\"delayed healing Symptom Count\")\n",
    "sns.countplot(x='delayed healing',hue='class',data=data,ax=ax[1])\n",
    "ax[1].set_title(\"delayed healing Vs Class\")"
   ]
  },
  {
   "cell_type": "markdown",
   "id": "a9c11344",
   "metadata": {},
   "source": [
    "Out of 239 who have delayed healing, 153 are tested positive."
   ]
  },
  {
   "cell_type": "markdown",
   "id": "309d8254",
   "metadata": {},
   "source": [
    "#### Partial paresis"
   ]
  },
  {
   "cell_type": "code",
   "execution_count": 48,
   "id": "52c168df",
   "metadata": {},
   "outputs": [
    {
     "data": {
      "text/plain": [
       "No     296\n",
       "Yes    224\n",
       "Name: partial paresis, dtype: int64"
      ]
     },
     "execution_count": 48,
     "metadata": {},
     "output_type": "execute_result"
    }
   ],
   "source": [
    "data['partial paresis'].value_counts()"
   ]
  },
  {
   "cell_type": "code",
   "execution_count": 49,
   "id": "79973987",
   "metadata": {},
   "outputs": [
    {
     "data": {
      "text/plain": [
       "partial paresis  class   \n",
       "No               Negative    168\n",
       "                 Positive    128\n",
       "Yes              Positive    192\n",
       "                 Negative     32\n",
       "Name: class, dtype: int64"
      ]
     },
     "execution_count": 49,
     "metadata": {},
     "output_type": "execute_result"
    }
   ],
   "source": [
    "data['class'].groupby(data['partial paresis']).value_counts()"
   ]
  },
  {
   "cell_type": "code",
   "execution_count": 50,
   "id": "e8543763",
   "metadata": {},
   "outputs": [
    {
     "data": {
      "text/plain": [
       "Text(0.5, 1.0, 'partial paresis Vs Class')"
      ]
     },
     "execution_count": 50,
     "metadata": {},
     "output_type": "execute_result"
    },
    {
     "data": {
      "image/png": "[encoded data removed]",
      "text/plain": [
       "<Figure size 720x288 with 2 Axes>"
      ]
     },
     "metadata": {
      "needs_background": "light"
     },
     "output_type": "display_data"
    }
   ],
   "source": [
    "fig,ax=plt.subplots(nrows=1, ncols=2, figsize=(10,4))\n",
    "sns.countplot(x='partial paresis', data=data, ax=ax[0])\n",
    "ax[0].set_title(\"partial paresis Symptom Count\")\n",
    "sns.countplot(x='partial paresis',hue='class',data=data,ax=ax[1])\n",
    "ax[1].set_title(\"partial paresis Vs Class\")"
   ]
  },
  {
   "cell_type": "markdown",
   "id": "63f3e61d",
   "metadata": {},
   "source": [
    "Out of 224 who have partial paresis, 192 are tested positive."
   ]
  },
  {
   "cell_type": "markdown",
   "id": "b58f8dc4",
   "metadata": {},
   "source": [
    "#### Muscle stiffness"
   ]
  },
  {
   "cell_type": "code",
   "execution_count": 51,
   "id": "a0bd77d5",
   "metadata": {},
   "outputs": [
    {
     "data": {
      "text/plain": [
       "No     325\n",
       "Yes    195\n",
       "Name: muscle stiffness, dtype: int64"
      ]
     },
     "execution_count": 51,
     "metadata": {},
     "output_type": "execute_result"
    }
   ],
   "source": [
    "data['muscle stiffness'].value_counts()"
   ]
  },
  {
   "cell_type": "code",
   "execution_count": 52,
   "id": "b57e3a02",
   "metadata": {},
   "outputs": [
    {
     "data": {
      "text/plain": [
       "muscle stiffness  class   \n",
       "No                Positive    185\n",
       "                  Negative    140\n",
       "Yes               Positive    135\n",
       "                  Negative     60\n",
       "Name: class, dtype: int64"
      ]
     },
     "execution_count": 52,
     "metadata": {},
     "output_type": "execute_result"
    }
   ],
   "source": [
    "data['class'].groupby(data['muscle stiffness']).value_counts()"
   ]
  },
  {
   "cell_type": "code",
   "execution_count": 53,
   "id": "4af1ed26",
   "metadata": {},
   "outputs": [
    {
     "data": {
      "text/plain": [
       "Text(0.5, 1.0, 'muscle stiffness Vs Class')"
      ]
     },
     "execution_count": 53,
     "metadata": {},
     "output_type": "execute_result"
    },
    {
     "data": {
      "image/png": "[encoded data removed]",
      "text/plain": [
       "<Figure size 720x288 with 2 Axes>"
      ]
     },
     "metadata": {
      "needs_background": "light"
     },
     "output_type": "display_data"
    }
   ],
   "source": [
    "fig,ax=plt.subplots(nrows=1, ncols=2, figsize=(10,4))\n",
    "sns.countplot(x='muscle stiffness', data=data, ax=ax[0])\n",
    "ax[0].set_title(\"muscle stiffness Symptom Count\")\n",
    "sns.countplot(x='muscle stiffness',hue='class',data=data,ax=ax[1])\n",
    "ax[1].set_title(\"muscle stiffness Vs Class\")"
   ]
  },
  {
   "cell_type": "markdown",
   "id": "747fd3a3",
   "metadata": {},
   "source": [
    "Out of 195 who have muscle stiffness, 135 are tested positive."
   ]
  },
  {
   "cell_type": "markdown",
   "id": "542b1a6f",
   "metadata": {},
   "source": [
    "#### Alopecia"
   ]
  },
  {
   "cell_type": "code",
   "execution_count": 54,
   "id": "75d2b240",
   "metadata": {},
   "outputs": [
    {
     "data": {
      "text/plain": [
       "No     341\n",
       "Yes    179\n",
       "Name: Alopecia, dtype: int64"
      ]
     },
     "execution_count": 54,
     "metadata": {},
     "output_type": "execute_result"
    }
   ],
   "source": [
    "data['Alopecia'].value_counts()"
   ]
  },
  {
   "cell_type": "code",
   "execution_count": 55,
   "id": "908dea20",
   "metadata": {},
   "outputs": [
    {
     "data": {
      "text/plain": [
       "Alopecia  class   \n",
       "No        Positive    242\n",
       "          Negative     99\n",
       "Yes       Negative    101\n",
       "          Positive     78\n",
       "Name: class, dtype: int64"
      ]
     },
     "execution_count": 55,
     "metadata": {},
     "output_type": "execute_result"
    }
   ],
   "source": [
    "data['class'].groupby(data['Alopecia']).value_counts()"
   ]
  },
  {
   "cell_type": "code",
   "execution_count": 56,
   "id": "3d09a8ee",
   "metadata": {},
   "outputs": [
    {
     "data": {
      "text/plain": [
       "Text(0.5, 1.0, 'Alopecia Vs Class')"
      ]
     },
     "execution_count": 56,
     "metadata": {},
     "output_type": "execute_result"
    },
    {
     "data": {
      "image/png": "[encoded data removed]",
      "text/plain": [
       "<Figure size 720x288 with 2 Axes>"
      ]
     },
     "metadata": {
      "needs_background": "light"
     },
     "output_type": "display_data"
    }
   ],
   "source": [
    "fig,ax=plt.subplots(nrows=1, ncols=2, figsize=(10,4))\n",
    "sns.countplot(x='Alopecia', data=data, ax=ax[0])\n",
    "ax[0].set_title(\"Alopecia Symptom Count\")\n",
    "sns.countplot(x='Alopecia',hue='class',data=data,ax=ax[1])\n",
    "ax[1].set_title(\"Alopecia Vs Class\")"
   ]
  },
  {
   "cell_type": "markdown",
   "id": "fb07ff98",
   "metadata": {},
   "source": [
    "Out of 179 who have Alopecia, 101 are tested positive."
   ]
  },
  {
   "cell_type": "markdown",
   "id": "282f9076",
   "metadata": {},
   "source": [
    "#### Obesity"
   ]
  },
  {
   "cell_type": "code",
   "execution_count": 57,
   "id": "03af36d3",
   "metadata": {},
   "outputs": [
    {
     "data": {
      "text/plain": [
       "No     432\n",
       "Yes     88\n",
       "Name: Obesity, dtype: int64"
      ]
     },
     "execution_count": 57,
     "metadata": {},
     "output_type": "execute_result"
    }
   ],
   "source": [
    "data['Obesity'].value_counts()"
   ]
  },
  {
   "cell_type": "code",
   "execution_count": 58,
   "id": "1ac0cbfc",
   "metadata": {},
   "outputs": [
    {
     "data": {
      "text/plain": [
       "Obesity  class   \n",
       "No       Positive    259\n",
       "         Negative    173\n",
       "Yes      Positive     61\n",
       "         Negative     27\n",
       "Name: class, dtype: int64"
      ]
     },
     "execution_count": 58,
     "metadata": {},
     "output_type": "execute_result"
    }
   ],
   "source": [
    "data['class'].groupby(data['Obesity']).value_counts()"
   ]
  },
  {
   "cell_type": "code",
   "execution_count": 59,
   "id": "121296d5",
   "metadata": {},
   "outputs": [
    {
     "data": {
      "text/plain": [
       "Text(0.5, 1.0, 'Obesity Vs Class')"
      ]
     },
     "execution_count": 59,
     "metadata": {},
     "output_type": "execute_result"
    },
    {
     "data": {
      "image/png": "[encoded data removed]",
      "text/plain": [
       "<Figure size 720x288 with 2 Axes>"
      ]
     },
     "metadata": {
      "needs_background": "light"
     },
     "output_type": "display_data"
    }
   ],
   "source": [
    "fig,ax=plt.subplots(nrows=1, ncols=2, figsize=(10,4))\n",
    "sns.countplot(x='Obesity', data=data, ax=ax[0])\n",
    "ax[0].set_title(\"Obesity Symptom Count\")\n",
    "sns.countplot(x='Obesity',hue='class',data=data,ax=ax[1])\n",
    "ax[1].set_title(\"Obesity Vs Class\")"
   ]
  },
  {
   "cell_type": "markdown",
   "id": "e7b0d96e",
   "metadata": {},
   "source": [
    "Out of 88 who are obese, 61 are tested positive."
   ]
  },
  {
   "cell_type": "markdown",
   "id": "6361a9bc",
   "metadata": {},
   "source": [
    "## Data Preprocessing"
   ]
  },
  {
   "cell_type": "code",
   "execution_count": 60,
   "id": "348fc017",
   "metadata": {},
   "outputs": [
    {
     "data": {
      "text/html": [
       "<div>\n",
       "<style scoped>\n",
       "    .dataframe tbody tr th:only-of-type {\n",
       "        vertical-align: middle;\n",
       "    }\n",
       "\n",
       "    .dataframe tbody tr th {\n",
       "        vertical-align: top;\n",
       "    }\n",
       "\n",
       "    .dataframe thead th {\n",
       "        text-align: right;\n",
       "    }\n",
       "</style>\n",
       "<table border=\"1\" class=\"dataframe\">\n",
       "  <thead>\n",
       "    <tr style=\"text-align: right;\">\n",
       "      <th></th>\n",
       "      <th>Age</th>\n",
       "      <th>Gender</th>\n",
       "      <th>Polyuria</th>\n",
       "      <th>Polydipsia</th>\n",
       "      <th>sudden weight loss</th>\n",
       "      <th>weakness</th>\n",
       "      <th>Polyphagia</th>\n",
       "      <th>Genital thrush</th>\n",
       "      <th>visual blurring</th>\n",
       "      <th>Itching</th>\n",
       "      <th>Irritability</th>\n",
       "      <th>delayed healing</th>\n",
       "      <th>partial paresis</th>\n",
       "      <th>muscle stiffness</th>\n",
       "      <th>Alopecia</th>\n",
       "      <th>Obesity</th>\n",
       "      <th>class</th>\n",
       "      <th>age_group</th>\n",
       "    </tr>\n",
       "  </thead>\n",
       "  <tbody>\n",
       "    <tr>\n",
       "      <th>0</th>\n",
       "      <td>40</td>\n",
       "      <td>Male</td>\n",
       "      <td>No</td>\n",
       "      <td>Yes</td>\n",
       "      <td>No</td>\n",
       "      <td>Yes</td>\n",
       "      <td>No</td>\n",
       "      <td>No</td>\n",
       "      <td>No</td>\n",
       "      <td>Yes</td>\n",
       "      <td>No</td>\n",
       "      <td>Yes</td>\n",
       "      <td>No</td>\n",
       "      <td>Yes</td>\n",
       "      <td>Yes</td>\n",
       "      <td>Yes</td>\n",
       "      <td>Positive</td>\n",
       "      <td>40-50</td>\n",
       "    </tr>\n",
       "    <tr>\n",
       "      <th>1</th>\n",
       "      <td>58</td>\n",
       "      <td>Male</td>\n",
       "      <td>No</td>\n",
       "      <td>No</td>\n",
       "      <td>No</td>\n",
       "      <td>Yes</td>\n",
       "      <td>No</td>\n",
       "      <td>No</td>\n",
       "      <td>Yes</td>\n",
       "      <td>No</td>\n",
       "      <td>No</td>\n",
       "      <td>No</td>\n",
       "      <td>Yes</td>\n",
       "      <td>No</td>\n",
       "      <td>Yes</td>\n",
       "      <td>No</td>\n",
       "      <td>Positive</td>\n",
       "      <td>50-60</td>\n",
       "    </tr>\n",
       "    <tr>\n",
       "      <th>2</th>\n",
       "      <td>41</td>\n",
       "      <td>Male</td>\n",
       "      <td>Yes</td>\n",
       "      <td>No</td>\n",
       "      <td>No</td>\n",
       "      <td>Yes</td>\n",
       "      <td>Yes</td>\n",
       "      <td>No</td>\n",
       "      <td>No</td>\n",
       "      <td>Yes</td>\n",
       "      <td>No</td>\n",
       "      <td>Yes</td>\n",
       "      <td>No</td>\n",
       "      <td>Yes</td>\n",
       "      <td>Yes</td>\n",
       "      <td>No</td>\n",
       "      <td>Positive</td>\n",
       "      <td>40-50</td>\n",
       "    </tr>\n",
       "    <tr>\n",
       "      <th>3</th>\n",
       "      <td>45</td>\n",
       "      <td>Male</td>\n",
       "      <td>No</td>\n",
       "      <td>No</td>\n",
       "      <td>Yes</td>\n",
       "      <td>Yes</td>\n",
       "      <td>Yes</td>\n",
       "      <td>Yes</td>\n",
       "      <td>No</td>\n",
       "      <td>Yes</td>\n",
       "      <td>No</td>\n",
       "      <td>Yes</td>\n",
       "      <td>No</td>\n",
       "      <td>No</td>\n",
       "      <td>No</td>\n",
       "      <td>No</td>\n",
       "      <td>Positive</td>\n",
       "      <td>40-50</td>\n",
       "    </tr>\n",
       "    <tr>\n",
       "      <th>4</th>\n",
       "      <td>60</td>\n",
       "      <td>Male</td>\n",
       "      <td>Yes</td>\n",
       "      <td>Yes</td>\n",
       "      <td>Yes</td>\n",
       "      <td>Yes</td>\n",
       "      <td>Yes</td>\n",
       "      <td>No</td>\n",
       "      <td>Yes</td>\n",
       "      <td>Yes</td>\n",
       "      <td>Yes</td>\n",
       "      <td>Yes</td>\n",
       "      <td>Yes</td>\n",
       "      <td>Yes</td>\n",
       "      <td>Yes</td>\n",
       "      <td>Yes</td>\n",
       "      <td>Positive</td>\n",
       "      <td>60-70</td>\n",
       "    </tr>\n",
       "  </tbody>\n",
       "</table>\n",
       "</div>"
      ],
      "text/plain": [
       "   Age Gender Polyuria Polydipsia sudden weight loss weakness Polyphagia  \\\n",
       "0   40   Male       No        Yes                 No      Yes         No   \n",
       "1   58   Male       No         No                 No      Yes         No   \n",
       "2   41   Male      Yes         No                 No      Yes        Yes   \n",
       "3   45   Male       No         No                Yes      Yes        Yes   \n",
       "4   60   Male      Yes        Yes                Yes      Yes        Yes   \n",
       "\n",
       "  Genital thrush visual blurring Itching Irritability delayed healing  \\\n",
       "0             No              No     Yes           No             Yes   \n",
       "1             No             Yes      No           No              No   \n",
       "2             No              No     Yes           No             Yes   \n",
       "3            Yes              No     Yes           No             Yes   \n",
       "4             No             Yes     Yes          Yes             Yes   \n",
       "\n",
       "  partial paresis muscle stiffness Alopecia Obesity     class age_group  \n",
       "0              No              Yes      Yes     Yes  Positive     40-50  \n",
       "1             Yes               No      Yes      No  Positive     50-60  \n",
       "2              No              Yes      Yes      No  Positive     40-50  \n",
       "3              No               No       No      No  Positive     40-50  \n",
       "4             Yes              Yes      Yes     Yes  Positive     60-70  "
      ]
     },
     "execution_count": 60,
     "metadata": {},
     "output_type": "execute_result"
    }
   ],
   "source": [
    "#To create a new feature 'age group'\n",
    "diabetes_data=data.copy()\n",
    "def age(i):\n",
    "    for x in range(10,100,10):\n",
    "        if i<x:\n",
    "            m=f'{x-10}-{x}'\n",
    "            return m\n",
    "\n",
    "diabetes_data['age_group']=data['Age'].apply(lambda x:age(x))\n",
    "diabetes_data.head()"
   ]
  },
  {
   "cell_type": "code",
   "execution_count": 61,
   "id": "d0ad58ca",
   "metadata": {},
   "outputs": [
    {
     "data": {
      "text/html": [
       "<div>\n",
       "<style scoped>\n",
       "    .dataframe tbody tr th:only-of-type {\n",
       "        vertical-align: middle;\n",
       "    }\n",
       "\n",
       "    .dataframe tbody tr th {\n",
       "        vertical-align: top;\n",
       "    }\n",
       "\n",
       "    .dataframe thead th {\n",
       "        text-align: right;\n",
       "    }\n",
       "</style>\n",
       "<table border=\"1\" class=\"dataframe\">\n",
       "  <thead>\n",
       "    <tr style=\"text-align: right;\">\n",
       "      <th></th>\n",
       "      <th>Age</th>\n",
       "      <th>Gender</th>\n",
       "      <th>Polyuria</th>\n",
       "      <th>Polydipsia</th>\n",
       "      <th>sudden weight loss</th>\n",
       "      <th>weakness</th>\n",
       "      <th>Polyphagia</th>\n",
       "      <th>Genital thrush</th>\n",
       "      <th>visual blurring</th>\n",
       "      <th>Itching</th>\n",
       "      <th>Irritability</th>\n",
       "      <th>delayed healing</th>\n",
       "      <th>partial paresis</th>\n",
       "      <th>muscle stiffness</th>\n",
       "      <th>Alopecia</th>\n",
       "      <th>Obesity</th>\n",
       "      <th>class</th>\n",
       "      <th>age_group</th>\n",
       "    </tr>\n",
       "  </thead>\n",
       "  <tbody>\n",
       "    <tr>\n",
       "      <th>0</th>\n",
       "      <td>40</td>\n",
       "      <td>1</td>\n",
       "      <td>0</td>\n",
       "      <td>1</td>\n",
       "      <td>0</td>\n",
       "      <td>1</td>\n",
       "      <td>0</td>\n",
       "      <td>0</td>\n",
       "      <td>0</td>\n",
       "      <td>1</td>\n",
       "      <td>0</td>\n",
       "      <td>1</td>\n",
       "      <td>0</td>\n",
       "      <td>1</td>\n",
       "      <td>1</td>\n",
       "      <td>1</td>\n",
       "      <td>1</td>\n",
       "      <td>3</td>\n",
       "    </tr>\n",
       "    <tr>\n",
       "      <th>1</th>\n",
       "      <td>58</td>\n",
       "      <td>1</td>\n",
       "      <td>0</td>\n",
       "      <td>0</td>\n",
       "      <td>0</td>\n",
       "      <td>1</td>\n",
       "      <td>0</td>\n",
       "      <td>0</td>\n",
       "      <td>1</td>\n",
       "      <td>0</td>\n",
       "      <td>0</td>\n",
       "      <td>0</td>\n",
       "      <td>1</td>\n",
       "      <td>0</td>\n",
       "      <td>1</td>\n",
       "      <td>0</td>\n",
       "      <td>1</td>\n",
       "      <td>4</td>\n",
       "    </tr>\n",
       "    <tr>\n",
       "      <th>2</th>\n",
       "      <td>41</td>\n",
       "      <td>1</td>\n",
       "      <td>1</td>\n",
       "      <td>0</td>\n",
       "      <td>0</td>\n",
       "      <td>1</td>\n",
       "      <td>1</td>\n",
       "      <td>0</td>\n",
       "      <td>0</td>\n",
       "      <td>1</td>\n",
       "      <td>0</td>\n",
       "      <td>1</td>\n",
       "      <td>0</td>\n",
       "      <td>1</td>\n",
       "      <td>1</td>\n",
       "      <td>0</td>\n",
       "      <td>1</td>\n",
       "      <td>3</td>\n",
       "    </tr>\n",
       "    <tr>\n",
       "      <th>3</th>\n",
       "      <td>45</td>\n",
       "      <td>1</td>\n",
       "      <td>0</td>\n",
       "      <td>0</td>\n",
       "      <td>1</td>\n",
       "      <td>1</td>\n",
       "      <td>1</td>\n",
       "      <td>1</td>\n",
       "      <td>0</td>\n",
       "      <td>1</td>\n",
       "      <td>0</td>\n",
       "      <td>1</td>\n",
       "      <td>0</td>\n",
       "      <td>0</td>\n",
       "      <td>0</td>\n",
       "      <td>0</td>\n",
       "      <td>1</td>\n",
       "      <td>3</td>\n",
       "    </tr>\n",
       "    <tr>\n",
       "      <th>4</th>\n",
       "      <td>60</td>\n",
       "      <td>1</td>\n",
       "      <td>1</td>\n",
       "      <td>1</td>\n",
       "      <td>1</td>\n",
       "      <td>1</td>\n",
       "      <td>1</td>\n",
       "      <td>0</td>\n",
       "      <td>1</td>\n",
       "      <td>1</td>\n",
       "      <td>1</td>\n",
       "      <td>1</td>\n",
       "      <td>1</td>\n",
       "      <td>1</td>\n",
       "      <td>1</td>\n",
       "      <td>1</td>\n",
       "      <td>1</td>\n",
       "      <td>5</td>\n",
       "    </tr>\n",
       "  </tbody>\n",
       "</table>\n",
       "</div>"
      ],
      "text/plain": [
       "   Age  Gender  Polyuria  Polydipsia  sudden weight loss  weakness  \\\n",
       "0   40       1         0           1                   0         1   \n",
       "1   58       1         0           0                   0         1   \n",
       "2   41       1         1           0                   0         1   \n",
       "3   45       1         0           0                   1         1   \n",
       "4   60       1         1           1                   1         1   \n",
       "\n",
       "   Polyphagia  Genital thrush  visual blurring  Itching  Irritability  \\\n",
       "0           0               0                0        1             0   \n",
       "1           0               0                1        0             0   \n",
       "2           1               0                0        1             0   \n",
       "3           1               1                0        1             0   \n",
       "4           1               0                1        1             1   \n",
       "\n",
       "   delayed healing  partial paresis  muscle stiffness  Alopecia  Obesity  \\\n",
       "0                1                0                 1         1        1   \n",
       "1                0                1                 0         1        0   \n",
       "2                1                0                 1         1        0   \n",
       "3                1                0                 0         0        0   \n",
       "4                1                1                 1         1        1   \n",
       "\n",
       "   class  age_group  \n",
       "0      1          3  \n",
       "1      1          4  \n",
       "2      1          3  \n",
       "3      1          3  \n",
       "4      1          5  "
      ]
     },
     "execution_count": 61,
     "metadata": {},
     "output_type": "execute_result"
    }
   ],
   "source": [
    "#Converting categorical into numberical\n",
    "label_encoder = preprocessing.LabelEncoder()\n",
    "for column in diabetes_data.columns[1:]:\n",
    "    diabetes_data[column]=label_encoder.fit_transform(diabetes_data[column])\n",
    "diabetes_data.head()"
   ]
  },
  {
   "cell_type": "markdown",
   "id": "a5b350c1",
   "metadata": {},
   "source": [
    "## Model Training"
   ]
  },
  {
   "cell_type": "markdown",
   "id": "81bf8025",
   "metadata": {},
   "source": [
    "#### Splitting data into independent & dependent variables"
   ]
  },
  {
   "cell_type": "code",
   "execution_count": 62,
   "id": "f151509b",
   "metadata": {},
   "outputs": [],
   "source": [
    "X=diabetes_data.drop(['class','Age'], axis=1)\n",
    "y=diabetes_data['class']"
   ]
  },
  {
   "cell_type": "markdown",
   "id": "b3f949a7",
   "metadata": {},
   "source": [
    "#### Splitting Data as Train and Test"
   ]
  },
  {
   "cell_type": "code",
   "execution_count": 63,
   "id": "7215cb32",
   "metadata": {},
   "outputs": [],
   "source": [
    "X_train, X_test, y_train, y_test=train_test_split(X,y,test_size=0.2, random_state=1)"
   ]
  },
  {
   "cell_type": "code",
   "execution_count": 64,
   "id": "b82c9c2a",
   "metadata": {},
   "outputs": [
    {
     "name": "stdout",
     "output_type": "stream",
     "text": [
      "The shape of X_train (416, 16)\n",
      "The shape of X_test (104, 16)\n",
      "The shape of y_train (416,)\n",
      "The shape of y_test (104,)\n"
     ]
    }
   ],
   "source": [
    "print('The shape of X_train', X_train.shape)\n",
    "print('The shape of X_test', X_test.shape)\n",
    "print('The shape of y_train', y_train.shape)\n",
    "print('The shape of y_test', y_test.shape)"
   ]
  },
  {
   "cell_type": "markdown",
   "id": "d0258ef7",
   "metadata": {},
   "source": [
    "#### Model Building"
   ]
  },
  {
   "cell_type": "markdown",
   "id": "e615c70d",
   "metadata": {},
   "source": [
    "##### Logistic Regression"
   ]
  },
  {
   "cell_type": "code",
   "execution_count": 65,
   "id": "7c2aab46",
   "metadata": {},
   "outputs": [],
   "source": [
    "lr=LogisticRegression()"
   ]
  },
  {
   "cell_type": "code",
   "execution_count": 66,
   "id": "87552f80",
   "metadata": {},
   "outputs": [
    {
     "data": {
      "text/plain": [
       "LogisticRegression()"
      ]
     },
     "execution_count": 66,
     "metadata": {},
     "output_type": "execute_result"
    }
   ],
   "source": [
    "lr.fit(X_train, y_train)"
   ]
  },
  {
   "cell_type": "code",
   "execution_count": 67,
   "id": "9f604742",
   "metadata": {},
   "outputs": [
    {
     "name": "stdout",
     "output_type": "stream",
     "text": [
      "model score on training data: 0.9254807692307693\n",
      "model score on testing data: 0.9038461538461539\n"
     ]
    }
   ],
   "source": [
    "print(f'model score on training data: {lr.score(X_train, y_train)}')\n",
    "print(f'model score on testing data: {lr.score(X_test, y_test)}')"
   ]
  },
  {
   "cell_type": "code",
   "execution_count": 68,
   "id": "26e05400",
   "metadata": {},
   "outputs": [],
   "source": [
    "lr_pred = lr.predict(X_test)"
   ]
  },
  {
   "cell_type": "code",
   "execution_count": 69,
   "id": "721b2f0d",
   "metadata": {},
   "outputs": [
    {
     "data": {
      "text/html": [
       "<div>\n",
       "<style scoped>\n",
       "    .dataframe tbody tr th:only-of-type {\n",
       "        vertical-align: middle;\n",
       "    }\n",
       "\n",
       "    .dataframe tbody tr th {\n",
       "        vertical-align: top;\n",
       "    }\n",
       "\n",
       "    .dataframe thead th {\n",
       "        text-align: right;\n",
       "    }\n",
       "</style>\n",
       "<table border=\"1\" class=\"dataframe\">\n",
       "  <thead>\n",
       "    <tr style=\"text-align: right;\">\n",
       "      <th></th>\n",
       "      <th>Gender</th>\n",
       "      <th>Polyuria</th>\n",
       "      <th>Polydipsia</th>\n",
       "      <th>sudden weight loss</th>\n",
       "      <th>weakness</th>\n",
       "      <th>Polyphagia</th>\n",
       "      <th>Genital thrush</th>\n",
       "      <th>visual blurring</th>\n",
       "      <th>Itching</th>\n",
       "      <th>Irritability</th>\n",
       "      <th>delayed healing</th>\n",
       "      <th>partial paresis</th>\n",
       "      <th>muscle stiffness</th>\n",
       "      <th>Alopecia</th>\n",
       "      <th>Obesity</th>\n",
       "      <th>age_group</th>\n",
       "      <th>predicted</th>\n",
       "    </tr>\n",
       "  </thead>\n",
       "  <tbody>\n",
       "    <tr>\n",
       "      <th>62</th>\n",
       "      <td>0</td>\n",
       "      <td>1</td>\n",
       "      <td>1</td>\n",
       "      <td>0</td>\n",
       "      <td>1</td>\n",
       "      <td>1</td>\n",
       "      <td>0</td>\n",
       "      <td>1</td>\n",
       "      <td>1</td>\n",
       "      <td>0</td>\n",
       "      <td>1</td>\n",
       "      <td>1</td>\n",
       "      <td>1</td>\n",
       "      <td>0</td>\n",
       "      <td>0</td>\n",
       "      <td>4</td>\n",
       "      <td>1</td>\n",
       "    </tr>\n",
       "    <tr>\n",
       "      <th>47</th>\n",
       "      <td>0</td>\n",
       "      <td>1</td>\n",
       "      <td>1</td>\n",
       "      <td>1</td>\n",
       "      <td>1</td>\n",
       "      <td>1</td>\n",
       "      <td>0</td>\n",
       "      <td>1</td>\n",
       "      <td>1</td>\n",
       "      <td>0</td>\n",
       "      <td>0</td>\n",
       "      <td>1</td>\n",
       "      <td>1</td>\n",
       "      <td>0</td>\n",
       "      <td>0</td>\n",
       "      <td>5</td>\n",
       "      <td>0</td>\n",
       "    </tr>\n",
       "    <tr>\n",
       "      <th>31</th>\n",
       "      <td>1</td>\n",
       "      <td>1</td>\n",
       "      <td>1</td>\n",
       "      <td>1</td>\n",
       "      <td>1</td>\n",
       "      <td>1</td>\n",
       "      <td>1</td>\n",
       "      <td>1</td>\n",
       "      <td>1</td>\n",
       "      <td>1</td>\n",
       "      <td>0</td>\n",
       "      <td>0</td>\n",
       "      <td>0</td>\n",
       "      <td>0</td>\n",
       "      <td>1</td>\n",
       "      <td>3</td>\n",
       "      <td>0</td>\n",
       "    </tr>\n",
       "    <tr>\n",
       "      <th>65</th>\n",
       "      <td>0</td>\n",
       "      <td>1</td>\n",
       "      <td>0</td>\n",
       "      <td>1</td>\n",
       "      <td>0</td>\n",
       "      <td>1</td>\n",
       "      <td>0</td>\n",
       "      <td>0</td>\n",
       "      <td>0</td>\n",
       "      <td>0</td>\n",
       "      <td>0</td>\n",
       "      <td>0</td>\n",
       "      <td>0</td>\n",
       "      <td>0</td>\n",
       "      <td>0</td>\n",
       "      <td>3</td>\n",
       "      <td>0</td>\n",
       "    </tr>\n",
       "    <tr>\n",
       "      <th>34</th>\n",
       "      <td>1</td>\n",
       "      <td>1</td>\n",
       "      <td>1</td>\n",
       "      <td>0</td>\n",
       "      <td>1</td>\n",
       "      <td>0</td>\n",
       "      <td>0</td>\n",
       "      <td>1</td>\n",
       "      <td>1</td>\n",
       "      <td>0</td>\n",
       "      <td>0</td>\n",
       "      <td>0</td>\n",
       "      <td>0</td>\n",
       "      <td>0</td>\n",
       "      <td>0</td>\n",
       "      <td>3</td>\n",
       "      <td>0</td>\n",
       "    </tr>\n",
       "  </tbody>\n",
       "</table>\n",
       "</div>"
      ],
      "text/plain": [
       "    Gender  Polyuria  Polydipsia  sudden weight loss  weakness  Polyphagia  \\\n",
       "62       0         1           1                   0         1           1   \n",
       "47       0         1           1                   1         1           1   \n",
       "31       1         1           1                   1         1           1   \n",
       "65       0         1           0                   1         0           1   \n",
       "34       1         1           1                   0         1           0   \n",
       "\n",
       "    Genital thrush  visual blurring  Itching  Irritability  delayed healing  \\\n",
       "62               0                1        1             0                1   \n",
       "47               0                1        1             0                0   \n",
       "31               1                1        1             1                0   \n",
       "65               0                0        0             0                0   \n",
       "34               0                1        1             0                0   \n",
       "\n",
       "    partial paresis  muscle stiffness  Alopecia  Obesity  age_group  predicted  \n",
       "62                1                 1         0        0          4          1  \n",
       "47                1                 1         0        0          5          0  \n",
       "31                0                 0         0        1          3          0  \n",
       "65                0                 0         0        0          3          0  \n",
       "34                0                 0         0        0          3          0  "
      ]
     },
     "execution_count": 69,
     "metadata": {},
     "output_type": "execute_result"
    }
   ],
   "source": [
    "#The predicted outcomes are added to the test dataset under the feature ‘predicted’.\n",
    "diab_data_pred=pd.merge(X_test,pd.DataFrame(lr_pred,columns=['predicted']),left_index=True,right_index=True)\n",
    "diab_data_pred.head()"
   ]
  },
  {
   "cell_type": "code",
   "execution_count": 70,
   "id": "5fca86f5",
   "metadata": {},
   "outputs": [
    {
     "data": {
      "image/png": "[encoded data removed]",
      "text/plain": [
       "<Figure size 432x288 with 1 Axes>"
      ]
     },
     "metadata": {
      "needs_background": "light"
     },
     "output_type": "display_data"
    }
   ],
   "source": [
    "sns.regplot(x='age_group', y = 'predicted', data= diab_data_pred, logistic= True, ci=None);"
   ]
  },
  {
   "cell_type": "code",
   "execution_count": 71,
   "id": "84fd3e9d",
   "metadata": {},
   "outputs": [
    {
     "data": {
      "image/png": "[encoded data removed]",
      "text/plain": [
       "<Figure size 432x288 with 2 Axes>"
      ]
     },
     "metadata": {
      "needs_background": "light"
     },
     "output_type": "display_data"
    }
   ],
   "source": [
    "sns.heatmap(confusion_matrix(y_test, lr_pred), annot= True, fmt='d')\n",
    "plt.xlabel('Predicted')\n",
    "plt.ylabel('True')\n",
    "plt.title('Logistic Regression Confusion Matrix')\n",
    "plt.show()"
   ]
  },
  {
   "cell_type": "code",
   "execution_count": 72,
   "id": "6d7b171c",
   "metadata": {},
   "outputs": [
    {
     "name": "stdout",
     "output_type": "stream",
     "text": [
      "              precision    recall  f1-score   support\n",
      "\n",
      "           0       0.85      0.89      0.87        38\n",
      "           1       0.94      0.91      0.92        66\n",
      "\n",
      "    accuracy                           0.90       104\n",
      "   macro avg       0.89      0.90      0.90       104\n",
      "weighted avg       0.91      0.90      0.90       104\n",
      "\n"
     ]
    }
   ],
   "source": [
    "print(classification_report(y_test, lr_pred))"
   ]
  },
  {
   "cell_type": "markdown",
   "id": "a0d632ae",
   "metadata": {},
   "source": [
    "##### Decision Tree Classifier"
   ]
  },
  {
   "cell_type": "code",
   "execution_count": 73,
   "id": "3c1216f3",
   "metadata": {},
   "outputs": [
    {
     "name": "stdout",
     "output_type": "stream",
     "text": [
      "model score on training data: 0.9278846153846154\n",
      "model score on testing data: 0.9230769230769231\n"
     ]
    }
   ],
   "source": [
    "dt = DecisionTreeClassifier(max_depth=3, random_state=1234)\n",
    "dt.fit(X, y)\n",
    "dt_pred = dt.predict(X_test)\n",
    "print (f'model score on training data: {dt.score(X_train, y_train)}')\n",
    "print (f'model score on testing data: {dt.score(X_test, y_test)}')"
   ]
  },
  {
   "cell_type": "code",
   "execution_count": 74,
   "id": "7c427cc8",
   "metadata": {},
   "outputs": [
    {
     "data": {
      "image/png": "[encoded data removed]",
      "text/plain": [
       "<Figure size 432x288 with 2 Axes>"
      ]
     },
     "metadata": {
      "needs_background": "light"
     },
     "output_type": "display_data"
    }
   ],
   "source": [
    "sns.heatmap(confusion_matrix(y_test, dt_pred), annot= True, fmt='d')\n",
    "plt.xlabel('Predicted')\n",
    "plt.ylabel('True')\n",
    "plt.title('Decision Tree Confusion Matrix')\n",
    "plt.show()"
   ]
  },
  {
   "cell_type": "code",
   "execution_count": 75,
   "id": "63c3f881",
   "metadata": {},
   "outputs": [
    {
     "name": "stdout",
     "output_type": "stream",
     "text": [
      "              precision    recall  f1-score   support\n",
      "\n",
      "           0       0.92      0.87      0.89        38\n",
      "           1       0.93      0.95      0.94        66\n",
      "\n",
      "    accuracy                           0.92       104\n",
      "   macro avg       0.92      0.91      0.92       104\n",
      "weighted avg       0.92      0.92      0.92       104\n",
      "\n"
     ]
    }
   ],
   "source": [
    "print(classification_report(y_test, dt_pred))"
   ]
  },
  {
   "cell_type": "code",
   "execution_count": 76,
   "id": "f8259028",
   "metadata": {},
   "outputs": [
    {
     "data": {
      "image/png": "[encoded data removed]",
      "text/plain": [
       "<Figure size 1800x864 with 1 Axes>"
      ]
     },
     "metadata": {
      "needs_background": "light"
     },
     "output_type": "display_data"
    }
   ],
   "source": [
    "fig, ax = plt.subplots(figsize=(25,12))\n",
    "#plot tree\n",
    "plot_tree(\n",
    "    decision_tree = dt,\n",
    "    feature_names = X_train.columns,\n",
    "    filled = True, #colour leaf with class\n",
    "    rounded = True, # round leaf edges\n",
    "    proportion = True, #Display proportion of classes in leaf\n",
    "    max_depth = 3, # only display first 3 levels\n",
    "    fontsize = 12, # Enlarge font\n",
    "    ax=ax, # place in figure axis\n",
    ");"
   ]
  },
  {
   "cell_type": "markdown",
   "id": "68b92836",
   "metadata": {},
   "source": [
    "##### Naive Bayes Classifier"
   ]
  },
  {
   "cell_type": "code",
   "execution_count": 77,
   "id": "54786391",
   "metadata": {},
   "outputs": [
    {
     "name": "stdout",
     "output_type": "stream",
     "text": [
      "model score on training data: 0.9014423076923077\n",
      "model score on testing data: 0.8846153846153846\n"
     ]
    }
   ],
   "source": [
    "nb=GaussianNB()\n",
    "nb.fit(X_train, y_train)\n",
    "nb_pred = nb.predict(X_test)\n",
    "print (f'model score on training data: {nb.score(X_train, y_train)}')\n",
    "print (f'model score on testing data: {nb.score(X_test, y_test)}')"
   ]
  },
  {
   "cell_type": "code",
   "execution_count": 78,
   "id": "5816c4ce",
   "metadata": {},
   "outputs": [
    {
     "data": {
      "image/png": "[encoded data removed]",
      "text/plain": [
       "<Figure size 432x288 with 2 Axes>"
      ]
     },
     "metadata": {
      "needs_background": "light"
     },
     "output_type": "display_data"
    }
   ],
   "source": [
    "sns.heatmap(confusion_matrix(y_test, nb_pred), annot= True, fmt='d')\n",
    "plt.xlabel('Predicted')\n",
    "plt.ylabel('True')\n",
    "plt.title('Naive Bayes Confusion Matrix')\n",
    "plt.show()"
   ]
  },
  {
   "cell_type": "code",
   "execution_count": 79,
   "id": "1fa0a359",
   "metadata": {},
   "outputs": [
    {
     "name": "stdout",
     "output_type": "stream",
     "text": [
      "              precision    recall  f1-score   support\n",
      "\n",
      "           0       0.84      0.84      0.84        38\n",
      "           1       0.91      0.91      0.91        66\n",
      "\n",
      "    accuracy                           0.88       104\n",
      "   macro avg       0.88      0.88      0.88       104\n",
      "weighted avg       0.88      0.88      0.88       104\n",
      "\n"
     ]
    }
   ],
   "source": [
    "print(classification_report(y_test, nb_pred))"
   ]
  },
  {
   "cell_type": "markdown",
   "id": "aeb0c8e7",
   "metadata": {},
   "source": [
    "##### Random Forest Classifier"
   ]
  },
  {
   "cell_type": "code",
   "execution_count": 80,
   "id": "e12e0d4b",
   "metadata": {},
   "outputs": [
    {
     "name": "stdout",
     "output_type": "stream",
     "text": [
      "model score on training data: 0.9927884615384616\n",
      "model score on testing data: 0.9807692307692307\n"
     ]
    }
   ],
   "source": [
    "rf = RandomForestClassifier(random_state= 10)\n",
    "model=rf.fit(X_train,y_train)\n",
    "rf_pred = model.predict(X_test)\n",
    "print (f'model score on training data: {model.score(X_train, y_train)}')\n",
    "print (f'model score on testing data: {model.score(X_test, y_test)}')"
   ]
  },
  {
   "cell_type": "code",
   "execution_count": 81,
   "id": "6bd95b6c",
   "metadata": {},
   "outputs": [
    {
     "data": {
      "image/png": "[encoded data removed]",
      "text/plain": [
       "<Figure size 432x288 with 2 Axes>"
      ]
     },
     "metadata": {
      "needs_background": "light"
     },
     "output_type": "display_data"
    }
   ],
   "source": [
    "sns.heatmap(confusion_matrix(y_test, rf_pred), annot= True, fmt='d')\n",
    "plt.xlabel('Predicted')\n",
    "plt.ylabel('True')\n",
    "plt.title('Random Forest Confusion Matrix')\n",
    "plt.show()"
   ]
  },
  {
   "cell_type": "code",
   "execution_count": 82,
   "id": "0ad94369",
   "metadata": {},
   "outputs": [
    {
     "name": "stdout",
     "output_type": "stream",
     "text": [
      "              precision    recall  f1-score   support\n",
      "\n",
      "           0       1.00      0.95      0.97        38\n",
      "           1       0.97      1.00      0.99        66\n",
      "\n",
      "    accuracy                           0.98       104\n",
      "   macro avg       0.99      0.97      0.98       104\n",
      "weighted avg       0.98      0.98      0.98       104\n",
      "\n"
     ]
    }
   ],
   "source": [
    "print(classification_report(y_test, rf_pred))"
   ]
  },
  {
   "cell_type": "code",
   "execution_count": 83,
   "id": "17fa1428",
   "metadata": {},
   "outputs": [
    {
     "data": {
      "image/png": "[encoded data removed]",
      "text/plain": [
       "<Figure size 432x288 with 1 Axes>"
      ]
     },
     "metadata": {
      "needs_background": "light"
     },
     "output_type": "display_data"
    }
   ],
   "source": [
    "lr_accuracy=accuracy_score(y_test, lr_pred)\n",
    "dt_accuracy=accuracy_score(y_test, dt_pred)\n",
    "nb_accuracy=accuracy_score(y_test, nb_pred)\n",
    "rf_accuracy=accuracy_score(y_test, rf_pred)\n",
    "\n",
    "lr_prec_score=precision_score(y_test, lr_pred, average='weighted')\n",
    "dt_prec_score=precision_score(y_test, dt_pred, average='weighted')\n",
    "nb_prec_score=precision_score(y_test, nb_pred, average='weighted')\n",
    "rf_prec_score=precision_score(y_test, rf_pred, average='weighted')\n",
    "\n",
    "lr_recall_score=recall_score(y_test, lr_pred, average='weighted')\n",
    "dt_recall_score=recall_score(y_test, dt_pred, average='weighted')\n",
    "nb_recall_score=recall_score(y_test, nb_pred, average='weighted')\n",
    "rf_recall_score=recall_score(y_test, rf_pred, average='weighted')\n",
    "\n",
    "lr_fscore=f1_score(y_test, lr_pred, average='weighted')\n",
    "dt_fscore=f1_score(y_test, dt_pred, average='weighted')\n",
    "nb_fscore=f1_score(y_test, nb_pred, average='weighted')\n",
    "rf_fscore=f1_score(y_test, rf_pred, average='weighted')\n",
    "\n",
    "metrics=['Accuracy','Precision','Recall','f1-score']\n",
    "logis=[lr_accuracy, lr_prec_score, lr_recall_score, lr_fscore]\n",
    "decision=[dt_accuracy, dt_prec_score, dt_recall_score, dt_fscore]\n",
    "naive=[nb_accuracy,nb_prec_score,nb_recall_score,nb_fscore]\n",
    "random=[rf_accuracy, rf_prec_score, rf_recall_score,rf_fscore]\n",
    "\n",
    "x_axis=np.arange(len(metrics))\n",
    "plt.bar(x_axis+0.20,logis,width=0.2,label='Logistic Regression',color='darkgrey')\n",
    "plt.bar(x_axis+0.20*2,decision,width=0.2,label='Decision Tree',color='gainsboro')\n",
    "plt.bar(x_axis+0.20*3,naive,width=0.2,label='Naive Bayes',color='dimgrey')\n",
    "plt.bar(x_axis+0.20*4,random,width=0.2,label='Random Forest', color='black')\n",
    "\n",
    "plt.xticks(x_axis+0.30,metrics)\n",
    "plt.title('Comparison of Models')\n",
    "plt.legend()\n",
    "plt.show()"
   ]
  },
  {
   "cell_type": "markdown",
   "id": "2160f786",
   "metadata": {},
   "source": [
    "Random Forest classifier performed well and I decided that it would be the model I would Select."
   ]
  },
  {
   "cell_type": "code",
   "execution_count": 84,
   "id": "83beabed",
   "metadata": {},
   "outputs": [],
   "source": [
    "import pickle\n",
    "pickle.dump(model, open(\"rf.pkl\", \"wb\"))"
   ]
  }
 ],
 "metadata": {
  "kernelspec": {
   "display_name": "Python 3 (ipykernel)",
   "language": "python",
   "name": "python3"
  },
  "language_info": {
   "codemirror_mode": {
    "name": "ipython",
    "version": 3
   },
   "file_extension": ".py",
   "mimetype": "text/x-python",
   "name": "python",
   "nbconvert_exporter": "python",
   "pygments_lexer": "ipython3",
   "version": "3.9.12"
  }
 },
 "nbformat": 4,
 "nbformat_minor": 5
}
